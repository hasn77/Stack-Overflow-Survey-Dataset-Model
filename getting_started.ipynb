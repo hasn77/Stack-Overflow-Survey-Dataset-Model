{
 "cells": [
  {
   "cell_type": "code",
   "execution_count": 2,
   "id": "2d267569",
   "metadata": {},
   "outputs": [],
   "source": [
    "# Importing the necessary libraries\n",
    "\n",
    "import pandas as pd\n",
    "import numpy as np\n",
    "import matplotlib as mp\n",
    "import matplotlib.pyplot as plt\n",
    "import seaborn as sns\n",
    "import sklearn"
   ]
  },
  {
   "cell_type": "code",
   "execution_count": 3,
   "id": "c5e9d314",
   "metadata": {},
   "outputs": [],
   "source": [
    "import sys\n",
    "\n",
    "assert sys.version_info >= (3, 7)"
   ]
  },
  {
   "cell_type": "code",
   "execution_count": 4,
   "id": "f6af0d24",
   "metadata": {},
   "outputs": [],
   "source": [
    "from packaging import version\n",
    "import sklearn\n",
    "\n",
    "assert version.parse(sklearn.__version__) >= version.parse(\"1.0.1\")"
   ]
  },
  {
   "cell_type": "markdown",
   "id": "e6c2f0a3",
   "metadata": {},
   "source": [
    "###                                                                ___Data Overview___"
   ]
  },
  {
   "cell_type": "code",
   "execution_count": 5,
   "id": "16d29f8b",
   "metadata": {},
   "outputs": [
    {
     "data": {
      "text/html": [
       "<div>\n",
       "<style scoped>\n",
       "    .dataframe tbody tr th:only-of-type {\n",
       "        vertical-align: middle;\n",
       "    }\n",
       "\n",
       "    .dataframe tbody tr th {\n",
       "        vertical-align: top;\n",
       "    }\n",
       "\n",
       "    .dataframe thead th {\n",
       "        text-align: right;\n",
       "    }\n",
       "</style>\n",
       "<table border=\"1\" class=\"dataframe\">\n",
       "  <thead>\n",
       "    <tr style=\"text-align: right;\">\n",
       "      <th></th>\n",
       "      <th>ResponseId</th>\n",
       "      <th>Q120</th>\n",
       "      <th>MainBranch</th>\n",
       "      <th>Age</th>\n",
       "      <th>Employment</th>\n",
       "      <th>RemoteWork</th>\n",
       "      <th>CodingActivities</th>\n",
       "      <th>EdLevel</th>\n",
       "      <th>LearnCode</th>\n",
       "      <th>LearnCodeOnline</th>\n",
       "      <th>...</th>\n",
       "      <th>Frequency_1</th>\n",
       "      <th>Frequency_2</th>\n",
       "      <th>Frequency_3</th>\n",
       "      <th>TimeSearching</th>\n",
       "      <th>TimeAnswering</th>\n",
       "      <th>ProfessionalTech</th>\n",
       "      <th>Industry</th>\n",
       "      <th>SurveyLength</th>\n",
       "      <th>SurveyEase</th>\n",
       "      <th>ConvertedCompYearly</th>\n",
       "    </tr>\n",
       "  </thead>\n",
       "  <tbody>\n",
       "    <tr>\n",
       "      <th>0</th>\n",
       "      <td>1</td>\n",
       "      <td>I agree</td>\n",
       "      <td>None of these</td>\n",
       "      <td>18-24 years old</td>\n",
       "      <td>NaN</td>\n",
       "      <td>NaN</td>\n",
       "      <td>NaN</td>\n",
       "      <td>NaN</td>\n",
       "      <td>NaN</td>\n",
       "      <td>NaN</td>\n",
       "      <td>...</td>\n",
       "      <td>NaN</td>\n",
       "      <td>NaN</td>\n",
       "      <td>NaN</td>\n",
       "      <td>NaN</td>\n",
       "      <td>NaN</td>\n",
       "      <td>NaN</td>\n",
       "      <td>NaN</td>\n",
       "      <td>NaN</td>\n",
       "      <td>NaN</td>\n",
       "      <td>NaN</td>\n",
       "    </tr>\n",
       "    <tr>\n",
       "      <th>1</th>\n",
       "      <td>2</td>\n",
       "      <td>I agree</td>\n",
       "      <td>I am a developer by profession</td>\n",
       "      <td>25-34 years old</td>\n",
       "      <td>Employed, full-time</td>\n",
       "      <td>Remote</td>\n",
       "      <td>Hobby;Contribute to open-source projects;Boots...</td>\n",
       "      <td>Bachelor’s degree (B.A., B.S., B.Eng., etc.)</td>\n",
       "      <td>Books / Physical media;Colleague;Friend or fam...</td>\n",
       "      <td>Formal documentation provided by the owner of ...</td>\n",
       "      <td>...</td>\n",
       "      <td>1-2 times a week</td>\n",
       "      <td>10+ times a week</td>\n",
       "      <td>Never</td>\n",
       "      <td>15-30 minutes a day</td>\n",
       "      <td>15-30 minutes a day</td>\n",
       "      <td>DevOps function;Microservices;Automated testin...</td>\n",
       "      <td>Information Services, IT, Software Development...</td>\n",
       "      <td>Appropriate in length</td>\n",
       "      <td>Easy</td>\n",
       "      <td>285000.0</td>\n",
       "    </tr>\n",
       "    <tr>\n",
       "      <th>2</th>\n",
       "      <td>3</td>\n",
       "      <td>I agree</td>\n",
       "      <td>I am a developer by profession</td>\n",
       "      <td>45-54 years old</td>\n",
       "      <td>Employed, full-time</td>\n",
       "      <td>Hybrid (some remote, some in-person)</td>\n",
       "      <td>Hobby;Professional development or self-paced l...</td>\n",
       "      <td>Bachelor’s degree (B.A., B.S., B.Eng., etc.)</td>\n",
       "      <td>Books / Physical media;Colleague;On the job tr...</td>\n",
       "      <td>Formal documentation provided by the owner of ...</td>\n",
       "      <td>...</td>\n",
       "      <td>6-10 times a week</td>\n",
       "      <td>6-10 times a week</td>\n",
       "      <td>3-5 times a week</td>\n",
       "      <td>30-60 minutes a day</td>\n",
       "      <td>30-60 minutes a day</td>\n",
       "      <td>DevOps function;Microservices;Automated testin...</td>\n",
       "      <td>Information Services, IT, Software Development...</td>\n",
       "      <td>Appropriate in length</td>\n",
       "      <td>Easy</td>\n",
       "      <td>250000.0</td>\n",
       "    </tr>\n",
       "    <tr>\n",
       "      <th>3</th>\n",
       "      <td>4</td>\n",
       "      <td>I agree</td>\n",
       "      <td>I am a developer by profession</td>\n",
       "      <td>25-34 years old</td>\n",
       "      <td>Employed, full-time</td>\n",
       "      <td>Hybrid (some remote, some in-person)</td>\n",
       "      <td>Hobby</td>\n",
       "      <td>Bachelor’s degree (B.A., B.S., B.Eng., etc.)</td>\n",
       "      <td>Colleague;Friend or family member;Other online...</td>\n",
       "      <td>Formal documentation provided by the owner of ...</td>\n",
       "      <td>...</td>\n",
       "      <td>1-2 times a week</td>\n",
       "      <td>10+ times a week</td>\n",
       "      <td>1-2 times a week</td>\n",
       "      <td>15-30 minutes a day</td>\n",
       "      <td>30-60 minutes a day</td>\n",
       "      <td>Automated testing;Continuous integration (CI) ...</td>\n",
       "      <td>NaN</td>\n",
       "      <td>Appropriate in length</td>\n",
       "      <td>Easy</td>\n",
       "      <td>156000.0</td>\n",
       "    </tr>\n",
       "    <tr>\n",
       "      <th>4</th>\n",
       "      <td>5</td>\n",
       "      <td>I agree</td>\n",
       "      <td>I am a developer by profession</td>\n",
       "      <td>25-34 years old</td>\n",
       "      <td>Employed, full-time;Independent contractor, fr...</td>\n",
       "      <td>Remote</td>\n",
       "      <td>Hobby;Contribute to open-source projects;Profe...</td>\n",
       "      <td>Bachelor’s degree (B.A., B.S., B.Eng., etc.)</td>\n",
       "      <td>Books / Physical media;Online Courses or Certi...</td>\n",
       "      <td>Formal documentation provided by the owner of ...</td>\n",
       "      <td>...</td>\n",
       "      <td>1-2 times a week</td>\n",
       "      <td>1-2 times a week</td>\n",
       "      <td>3-5 times a week</td>\n",
       "      <td>60-120 minutes a day</td>\n",
       "      <td>30-60 minutes a day</td>\n",
       "      <td>Microservices;Automated testing;Observability ...</td>\n",
       "      <td>Other</td>\n",
       "      <td>Appropriate in length</td>\n",
       "      <td>Neither easy nor difficult</td>\n",
       "      <td>23456.0</td>\n",
       "    </tr>\n",
       "  </tbody>\n",
       "</table>\n",
       "<p>5 rows × 84 columns</p>\n",
       "</div>"
      ],
      "text/plain": [
       "   ResponseId     Q120                      MainBranch              Age  \\\n",
       "0           1  I agree                   None of these  18-24 years old   \n",
       "1           2  I agree  I am a developer by profession  25-34 years old   \n",
       "2           3  I agree  I am a developer by profession  45-54 years old   \n",
       "3           4  I agree  I am a developer by profession  25-34 years old   \n",
       "4           5  I agree  I am a developer by profession  25-34 years old   \n",
       "\n",
       "                                          Employment  \\\n",
       "0                                                NaN   \n",
       "1                                Employed, full-time   \n",
       "2                                Employed, full-time   \n",
       "3                                Employed, full-time   \n",
       "4  Employed, full-time;Independent contractor, fr...   \n",
       "\n",
       "                             RemoteWork  \\\n",
       "0                                   NaN   \n",
       "1                                Remote   \n",
       "2  Hybrid (some remote, some in-person)   \n",
       "3  Hybrid (some remote, some in-person)   \n",
       "4                                Remote   \n",
       "\n",
       "                                    CodingActivities  \\\n",
       "0                                                NaN   \n",
       "1  Hobby;Contribute to open-source projects;Boots...   \n",
       "2  Hobby;Professional development or self-paced l...   \n",
       "3                                              Hobby   \n",
       "4  Hobby;Contribute to open-source projects;Profe...   \n",
       "\n",
       "                                        EdLevel  \\\n",
       "0                                           NaN   \n",
       "1  Bachelor’s degree (B.A., B.S., B.Eng., etc.)   \n",
       "2  Bachelor’s degree (B.A., B.S., B.Eng., etc.)   \n",
       "3  Bachelor’s degree (B.A., B.S., B.Eng., etc.)   \n",
       "4  Bachelor’s degree (B.A., B.S., B.Eng., etc.)   \n",
       "\n",
       "                                           LearnCode  \\\n",
       "0                                                NaN   \n",
       "1  Books / Physical media;Colleague;Friend or fam...   \n",
       "2  Books / Physical media;Colleague;On the job tr...   \n",
       "3  Colleague;Friend or family member;Other online...   \n",
       "4  Books / Physical media;Online Courses or Certi...   \n",
       "\n",
       "                                     LearnCodeOnline  ...        Frequency_1  \\\n",
       "0                                                NaN  ...                NaN   \n",
       "1  Formal documentation provided by the owner of ...  ...   1-2 times a week   \n",
       "2  Formal documentation provided by the owner of ...  ...  6-10 times a week   \n",
       "3  Formal documentation provided by the owner of ...  ...   1-2 times a week   \n",
       "4  Formal documentation provided by the owner of ...  ...   1-2 times a week   \n",
       "\n",
       "         Frequency_2       Frequency_3         TimeSearching  \\\n",
       "0                NaN               NaN                   NaN   \n",
       "1   10+ times a week             Never   15-30 minutes a day   \n",
       "2  6-10 times a week  3-5 times a week   30-60 minutes a day   \n",
       "3   10+ times a week  1-2 times a week   15-30 minutes a day   \n",
       "4   1-2 times a week  3-5 times a week  60-120 minutes a day   \n",
       "\n",
       "         TimeAnswering                                   ProfessionalTech  \\\n",
       "0                  NaN                                                NaN   \n",
       "1  15-30 minutes a day  DevOps function;Microservices;Automated testin...   \n",
       "2  30-60 minutes a day  DevOps function;Microservices;Automated testin...   \n",
       "3  30-60 minutes a day  Automated testing;Continuous integration (CI) ...   \n",
       "4  30-60 minutes a day  Microservices;Automated testing;Observability ...   \n",
       "\n",
       "                                            Industry           SurveyLength  \\\n",
       "0                                                NaN                    NaN   \n",
       "1  Information Services, IT, Software Development...  Appropriate in length   \n",
       "2  Information Services, IT, Software Development...  Appropriate in length   \n",
       "3                                                NaN  Appropriate in length   \n",
       "4                                              Other  Appropriate in length   \n",
       "\n",
       "                   SurveyEase ConvertedCompYearly  \n",
       "0                         NaN                 NaN  \n",
       "1                        Easy            285000.0  \n",
       "2                        Easy            250000.0  \n",
       "3                        Easy            156000.0  \n",
       "4  Neither easy nor difficult             23456.0  \n",
       "\n",
       "[5 rows x 84 columns]"
      ]
     },
     "execution_count": 5,
     "metadata": {},
     "output_type": "execute_result"
    }
   ],
   "source": [
    "df = pd.read_csv('survey_results_public.csv')\n",
    "df.head()"
   ]
  },
  {
   "cell_type": "code",
   "execution_count": 6,
   "id": "0ec642f1",
   "metadata": {},
   "outputs": [
    {
     "name": "stdout",
     "output_type": "stream",
     "text": [
      "<class 'pandas.core.frame.DataFrame'>\n",
      "RangeIndex: 89184 entries, 0 to 89183\n",
      "Data columns (total 84 columns):\n",
      " #   Column                               Non-Null Count  Dtype  \n",
      "---  ------                               --------------  -----  \n",
      " 0   ResponseId                           89184 non-null  int64  \n",
      " 1   Q120                                 89184 non-null  object \n",
      " 2   MainBranch                           89184 non-null  object \n",
      " 3   Age                                  89184 non-null  object \n",
      " 4   Employment                           87898 non-null  object \n",
      " 5   RemoteWork                           73810 non-null  object \n",
      " 6   CodingActivities                     73764 non-null  object \n",
      " 7   EdLevel                              87973 non-null  object \n",
      " 8   LearnCode                            87663 non-null  object \n",
      " 9   LearnCodeOnline                      70084 non-null  object \n",
      " 10  LearnCodeCoursesCert                 37076 non-null  object \n",
      " 11  YearsCode                            87435 non-null  object \n",
      " 12  YearsCodePro                         66136 non-null  object \n",
      " 13  DevType                              76872 non-null  object \n",
      " 14  OrgSize                              65043 non-null  object \n",
      " 15  PurchaseInfluence                    64964 non-null  object \n",
      " 16  TechList                             60851 non-null  object \n",
      " 17  BuyNewTool                           83009 non-null  object \n",
      " 18  Country                              87973 non-null  object \n",
      " 19  Currency                             65334 non-null  object \n",
      " 20  CompTotal                            48225 non-null  float64\n",
      " 21  LanguageHaveWorkedWith               87140 non-null  object \n",
      " 22  LanguageWantToWorkWith               80709 non-null  object \n",
      " 23  DatabaseHaveWorkedWith               73435 non-null  object \n",
      " 24  DatabaseWantToWorkWith               60911 non-null  object \n",
      " 25  PlatformHaveWorkedWith               63628 non-null  object \n",
      " 26  PlatformWantToWorkWith               51308 non-null  object \n",
      " 27  WebframeHaveWorkedWith               66938 non-null  object \n",
      " 28  WebframeWantToWorkWith               56741 non-null  object \n",
      " 29  MiscTechHaveWorkedWith               57019 non-null  object \n",
      " 30  MiscTechWantToWorkWith               46848 non-null  object \n",
      " 31  ToolsTechHaveWorkedWith              77884 non-null  object \n",
      " 32  ToolsTechWantToWorkWith              68315 non-null  object \n",
      " 33  NEWCollabToolsHaveWorkedWith         85864 non-null  object \n",
      " 34  NEWCollabToolsWantToWorkWith         76649 non-null  object \n",
      " 35  OpSysPersonal use                    86557 non-null  object \n",
      " 36  OpSysProfessional use                78587 non-null  object \n",
      " 37  OfficeStackAsyncHaveWorkedWith       69090 non-null  object \n",
      " 38  OfficeStackAsyncWantToWorkWith       53743 non-null  object \n",
      " 39  OfficeStackSyncHaveWorkedWith        83439 non-null  object \n",
      " 40  OfficeStackSyncWantToWorkWith        69776 non-null  object \n",
      " 41  AISearchHaveWorkedWith               56328 non-null  object \n",
      " 42  AISearchWantToWorkWith               46150 non-null  object \n",
      " 43  AIDevHaveWorkedWith                  25904 non-null  object \n",
      " 44  AIDevWantToWorkWith                  19587 non-null  object \n",
      " 45  NEWSOSites                           87973 non-null  object \n",
      " 46  SOVisitFreq                          87140 non-null  object \n",
      " 47  SOAccount                            87852 non-null  object \n",
      " 48  SOPartFreq                           66061 non-null  object \n",
      " 49  SOComm                               87692 non-null  object \n",
      " 50  SOAI                                 47858 non-null  object \n",
      " 51  AISelect                             87973 non-null  object \n",
      " 52  AISent                               61501 non-null  object \n",
      " 53  AIAcc                                38594 non-null  object \n",
      " 54  AIBen                                61396 non-null  object \n",
      " 55  AIToolInterested in Using            32783 non-null  object \n",
      " 56  AIToolCurrently Using                36137 non-null  object \n",
      " 57  AIToolNot interested in Using        21069 non-null  object \n",
      " 58  AINextVery different                 12661 non-null  object \n",
      " 59  AINextNeither different nor similar  6599 non-null   object \n",
      " 60  AINextSomewhat similar               6238 non-null   object \n",
      " 61  AINextVery similar                   2621 non-null   object \n",
      " 62  AINextSomewhat different             23303 non-null  object \n",
      " 63  TBranch                              65768 non-null  object \n",
      " 64  ICorPM                               43668 non-null  object \n",
      " 65  WorkExp                              43579 non-null  float64\n",
      " 66  Knowledge_1                          42535 non-null  object \n",
      " 67  Knowledge_2                          41670 non-null  object \n",
      " 68  Knowledge_3                          41798 non-null  object \n",
      " 69  Knowledge_4                          41684 non-null  object \n",
      " 70  Knowledge_5                          41527 non-null  object \n",
      " 71  Knowledge_6                          41520 non-null  object \n",
      " 72  Knowledge_7                          41467 non-null  object \n",
      " 73  Knowledge_8                          41404 non-null  object \n",
      " 74  Frequency_1                          41916 non-null  object \n",
      " 75  Frequency_2                          41925 non-null  object \n",
      " 76  Frequency_3                          41054 non-null  object \n",
      " 77  TimeSearching                        42778 non-null  object \n",
      " 78  TimeAnswering                        42629 non-null  object \n",
      " 79  ProfessionalTech                     41783 non-null  object \n",
      " 80  Industry                             36774 non-null  object \n",
      " 81  SurveyLength                         86485 non-null  object \n",
      " 82  SurveyEase                           86554 non-null  object \n",
      " 83  ConvertedCompYearly                  48019 non-null  float64\n",
      "dtypes: float64(3), int64(1), object(80)\n",
      "memory usage: 57.2+ MB\n"
     ]
    }
   ],
   "source": [
    "df.info()"
   ]
  },
  {
   "cell_type": "code",
   "execution_count": 7,
   "id": "761acf84",
   "metadata": {},
   "outputs": [
    {
     "data": {
      "text/html": [
       "<div>\n",
       "<style scoped>\n",
       "    .dataframe tbody tr th:only-of-type {\n",
       "        vertical-align: middle;\n",
       "    }\n",
       "\n",
       "    .dataframe tbody tr th {\n",
       "        vertical-align: top;\n",
       "    }\n",
       "\n",
       "    .dataframe thead th {\n",
       "        text-align: right;\n",
       "    }\n",
       "</style>\n",
       "<table border=\"1\" class=\"dataframe\">\n",
       "  <thead>\n",
       "    <tr style=\"text-align: right;\">\n",
       "      <th></th>\n",
       "      <th>ResponseId</th>\n",
       "      <th>CompTotal</th>\n",
       "      <th>WorkExp</th>\n",
       "      <th>ConvertedCompYearly</th>\n",
       "    </tr>\n",
       "  </thead>\n",
       "  <tbody>\n",
       "    <tr>\n",
       "      <th>count</th>\n",
       "      <td>89184.000000</td>\n",
       "      <td>4.822500e+04</td>\n",
       "      <td>43579.000000</td>\n",
       "      <td>4.801900e+04</td>\n",
       "    </tr>\n",
       "    <tr>\n",
       "      <th>mean</th>\n",
       "      <td>44592.500000</td>\n",
       "      <td>1.036807e+42</td>\n",
       "      <td>11.405126</td>\n",
       "      <td>1.031101e+05</td>\n",
       "    </tr>\n",
       "    <tr>\n",
       "      <th>std</th>\n",
       "      <td>25745.347541</td>\n",
       "      <td>2.276847e+44</td>\n",
       "      <td>9.051989</td>\n",
       "      <td>6.814188e+05</td>\n",
       "    </tr>\n",
       "    <tr>\n",
       "      <th>min</th>\n",
       "      <td>1.000000</td>\n",
       "      <td>0.000000e+00</td>\n",
       "      <td>0.000000</td>\n",
       "      <td>1.000000e+00</td>\n",
       "    </tr>\n",
       "    <tr>\n",
       "      <th>25%</th>\n",
       "      <td>22296.750000</td>\n",
       "      <td>6.300000e+04</td>\n",
       "      <td>5.000000</td>\n",
       "      <td>4.390700e+04</td>\n",
       "    </tr>\n",
       "    <tr>\n",
       "      <th>50%</th>\n",
       "      <td>44592.500000</td>\n",
       "      <td>1.150000e+05</td>\n",
       "      <td>9.000000</td>\n",
       "      <td>7.496300e+04</td>\n",
       "    </tr>\n",
       "    <tr>\n",
       "      <th>75%</th>\n",
       "      <td>66888.250000</td>\n",
       "      <td>2.300000e+05</td>\n",
       "      <td>16.000000</td>\n",
       "      <td>1.216410e+05</td>\n",
       "    </tr>\n",
       "    <tr>\n",
       "      <th>max</th>\n",
       "      <td>89184.000000</td>\n",
       "      <td>5.000000e+46</td>\n",
       "      <td>50.000000</td>\n",
       "      <td>7.435143e+07</td>\n",
       "    </tr>\n",
       "  </tbody>\n",
       "</table>\n",
       "</div>"
      ],
      "text/plain": [
       "         ResponseId     CompTotal       WorkExp  ConvertedCompYearly\n",
       "count  89184.000000  4.822500e+04  43579.000000         4.801900e+04\n",
       "mean   44592.500000  1.036807e+42     11.405126         1.031101e+05\n",
       "std    25745.347541  2.276847e+44      9.051989         6.814188e+05\n",
       "min        1.000000  0.000000e+00      0.000000         1.000000e+00\n",
       "25%    22296.750000  6.300000e+04      5.000000         4.390700e+04\n",
       "50%    44592.500000  1.150000e+05      9.000000         7.496300e+04\n",
       "75%    66888.250000  2.300000e+05     16.000000         1.216410e+05\n",
       "max    89184.000000  5.000000e+46     50.000000         7.435143e+07"
      ]
     },
     "execution_count": 7,
     "metadata": {},
     "output_type": "execute_result"
    }
   ],
   "source": [
    "df.describe()"
   ]
  },
  {
   "cell_type": "code",
   "execution_count": 8,
   "id": "2cf13e11",
   "metadata": {},
   "outputs": [
    {
     "data": {
      "text/html": [
       "<div>\n",
       "<style scoped>\n",
       "    .dataframe tbody tr th:only-of-type {\n",
       "        vertical-align: middle;\n",
       "    }\n",
       "\n",
       "    .dataframe tbody tr th {\n",
       "        vertical-align: top;\n",
       "    }\n",
       "\n",
       "    .dataframe thead th {\n",
       "        text-align: right;\n",
       "    }\n",
       "</style>\n",
       "<table border=\"1\" class=\"dataframe\">\n",
       "  <thead>\n",
       "    <tr style=\"text-align: right;\">\n",
       "      <th></th>\n",
       "      <th>ResponseId</th>\n",
       "      <th>Q120</th>\n",
       "      <th>MainBranch</th>\n",
       "      <th>Age</th>\n",
       "      <th>Employment</th>\n",
       "      <th>RemoteWork</th>\n",
       "      <th>CodingActivities</th>\n",
       "      <th>EdLevel</th>\n",
       "      <th>LearnCode</th>\n",
       "      <th>LearnCodeOnline</th>\n",
       "      <th>...</th>\n",
       "      <th>Frequency_1</th>\n",
       "      <th>Frequency_2</th>\n",
       "      <th>Frequency_3</th>\n",
       "      <th>TimeSearching</th>\n",
       "      <th>TimeAnswering</th>\n",
       "      <th>ProfessionalTech</th>\n",
       "      <th>Industry</th>\n",
       "      <th>SurveyLength</th>\n",
       "      <th>SurveyEase</th>\n",
       "      <th>ConvertedCompYearly</th>\n",
       "    </tr>\n",
       "  </thead>\n",
       "  <tbody>\n",
       "    <tr>\n",
       "      <th>59596</th>\n",
       "      <td>59597</td>\n",
       "      <td>I agree</td>\n",
       "      <td>I code primarily as a hobby</td>\n",
       "      <td>Under 18 years old</td>\n",
       "      <td>Independent contractor, freelancer, or self-em...</td>\n",
       "      <td>Remote</td>\n",
       "      <td>Hobby;Contribute to open-source projects;Freel...</td>\n",
       "      <td>Primary/elementary school</td>\n",
       "      <td>Books / Physical media;Other online resources ...</td>\n",
       "      <td>Formal documentation provided by the owner of ...</td>\n",
       "      <td>...</td>\n",
       "      <td>NaN</td>\n",
       "      <td>NaN</td>\n",
       "      <td>NaN</td>\n",
       "      <td>NaN</td>\n",
       "      <td>NaN</td>\n",
       "      <td>NaN</td>\n",
       "      <td>NaN</td>\n",
       "      <td>Appropriate in length</td>\n",
       "      <td>Easy</td>\n",
       "      <td>NaN</td>\n",
       "    </tr>\n",
       "  </tbody>\n",
       "</table>\n",
       "<p>1 rows × 84 columns</p>\n",
       "</div>"
      ],
      "text/plain": [
       "       ResponseId     Q120                   MainBranch                 Age  \\\n",
       "59596       59597  I agree  I code primarily as a hobby  Under 18 years old   \n",
       "\n",
       "                                              Employment RemoteWork  \\\n",
       "59596  Independent contractor, freelancer, or self-em...     Remote   \n",
       "\n",
       "                                        CodingActivities  \\\n",
       "59596  Hobby;Contribute to open-source projects;Freel...   \n",
       "\n",
       "                         EdLevel  \\\n",
       "59596  Primary/elementary school   \n",
       "\n",
       "                                               LearnCode  \\\n",
       "59596  Books / Physical media;Other online resources ...   \n",
       "\n",
       "                                         LearnCodeOnline  ... Frequency_1  \\\n",
       "59596  Formal documentation provided by the owner of ...  ...         NaN   \n",
       "\n",
       "      Frequency_2 Frequency_3 TimeSearching TimeAnswering ProfessionalTech  \\\n",
       "59596         NaN         NaN           NaN           NaN              NaN   \n",
       "\n",
       "      Industry           SurveyLength SurveyEase ConvertedCompYearly  \n",
       "59596      NaN  Appropriate in length       Easy                 NaN  \n",
       "\n",
       "[1 rows x 84 columns]"
      ]
     },
     "execution_count": 8,
     "metadata": {},
     "output_type": "execute_result"
    }
   ],
   "source": [
    "df.sample()"
   ]
  },
  {
   "cell_type": "code",
   "execution_count": 9,
   "id": "e137fe82",
   "metadata": {},
   "outputs": [
    {
     "name": "stdout",
     "output_type": "stream",
     "text": [
      "<class 'pandas.core.frame.DataFrame'>\n",
      "RangeIndex: 89184 entries, 0 to 89183\n",
      "Data columns (total 84 columns):\n",
      " #   Column                               Non-Null Count  Dtype  \n",
      "---  ------                               --------------  -----  \n",
      " 0   ResponseId                           89184 non-null  int64  \n",
      " 1   Q120                                 89184 non-null  object \n",
      " 2   MainBranch                           89184 non-null  object \n",
      " 3   Age                                  89184 non-null  object \n",
      " 4   Employment                           87898 non-null  object \n",
      " 5   RemoteWork                           73810 non-null  object \n",
      " 6   CodingActivities                     73764 non-null  object \n",
      " 7   EdLevel                              87973 non-null  object \n",
      " 8   LearnCode                            87663 non-null  object \n",
      " 9   LearnCodeOnline                      70084 non-null  object \n",
      " 10  LearnCodeCoursesCert                 37076 non-null  object \n",
      " 11  YearsCode                            87435 non-null  object \n",
      " 12  YearsCodePro                         66136 non-null  object \n",
      " 13  DevType                              76872 non-null  object \n",
      " 14  OrgSize                              65043 non-null  object \n",
      " 15  PurchaseInfluence                    64964 non-null  object \n",
      " 16  TechList                             60851 non-null  object \n",
      " 17  BuyNewTool                           83009 non-null  object \n",
      " 18  Country                              87973 non-null  object \n",
      " 19  Currency                             65334 non-null  object \n",
      " 20  CompTotal                            48225 non-null  float64\n",
      " 21  LanguageHaveWorkedWith               87140 non-null  object \n",
      " 22  LanguageWantToWorkWith               80709 non-null  object \n",
      " 23  DatabaseHaveWorkedWith               73435 non-null  object \n",
      " 24  DatabaseWantToWorkWith               60911 non-null  object \n",
      " 25  PlatformHaveWorkedWith               63628 non-null  object \n",
      " 26  PlatformWantToWorkWith               51308 non-null  object \n",
      " 27  WebframeHaveWorkedWith               66938 non-null  object \n",
      " 28  WebframeWantToWorkWith               56741 non-null  object \n",
      " 29  MiscTechHaveWorkedWith               57019 non-null  object \n",
      " 30  MiscTechWantToWorkWith               46848 non-null  object \n",
      " 31  ToolsTechHaveWorkedWith              77884 non-null  object \n",
      " 32  ToolsTechWantToWorkWith              68315 non-null  object \n",
      " 33  NEWCollabToolsHaveWorkedWith         85864 non-null  object \n",
      " 34  NEWCollabToolsWantToWorkWith         76649 non-null  object \n",
      " 35  OpSysPersonal use                    86557 non-null  object \n",
      " 36  OpSysProfessional use                78587 non-null  object \n",
      " 37  OfficeStackAsyncHaveWorkedWith       69090 non-null  object \n",
      " 38  OfficeStackAsyncWantToWorkWith       53743 non-null  object \n",
      " 39  OfficeStackSyncHaveWorkedWith        83439 non-null  object \n",
      " 40  OfficeStackSyncWantToWorkWith        69776 non-null  object \n",
      " 41  AISearchHaveWorkedWith               56328 non-null  object \n",
      " 42  AISearchWantToWorkWith               46150 non-null  object \n",
      " 43  AIDevHaveWorkedWith                  25904 non-null  object \n",
      " 44  AIDevWantToWorkWith                  19587 non-null  object \n",
      " 45  NEWSOSites                           87973 non-null  object \n",
      " 46  SOVisitFreq                          87140 non-null  object \n",
      " 47  SOAccount                            87852 non-null  object \n",
      " 48  SOPartFreq                           66061 non-null  object \n",
      " 49  SOComm                               87692 non-null  object \n",
      " 50  SOAI                                 47858 non-null  object \n",
      " 51  AISelect                             87973 non-null  object \n",
      " 52  AISent                               61501 non-null  object \n",
      " 53  AIAcc                                38594 non-null  object \n",
      " 54  AIBen                                61396 non-null  object \n",
      " 55  AIToolInterested in Using            32783 non-null  object \n",
      " 56  AIToolCurrently Using                36137 non-null  object \n",
      " 57  AIToolNot interested in Using        21069 non-null  object \n",
      " 58  AINextVery different                 12661 non-null  object \n",
      " 59  AINextNeither different nor similar  6599 non-null   object \n",
      " 60  AINextSomewhat similar               6238 non-null   object \n",
      " 61  AINextVery similar                   2621 non-null   object \n",
      " 62  AINextSomewhat different             23303 non-null  object \n",
      " 63  TBranch                              65768 non-null  object \n",
      " 64  ICorPM                               43668 non-null  object \n",
      " 65  WorkExp                              43579 non-null  float64\n",
      " 66  Knowledge_1                          42535 non-null  object \n",
      " 67  Knowledge_2                          41670 non-null  object \n",
      " 68  Knowledge_3                          41798 non-null  object \n",
      " 69  Knowledge_4                          41684 non-null  object \n",
      " 70  Knowledge_5                          41527 non-null  object \n",
      " 71  Knowledge_6                          41520 non-null  object \n",
      " 72  Knowledge_7                          41467 non-null  object \n",
      " 73  Knowledge_8                          41404 non-null  object \n",
      " 74  Frequency_1                          41916 non-null  object \n",
      " 75  Frequency_2                          41925 non-null  object \n",
      " 76  Frequency_3                          41054 non-null  object \n",
      " 77  TimeSearching                        42778 non-null  object \n",
      " 78  TimeAnswering                        42629 non-null  object \n",
      " 79  ProfessionalTech                     41783 non-null  object \n",
      " 80  Industry                             36774 non-null  object \n",
      " 81  SurveyLength                         86485 non-null  object \n",
      " 82  SurveyEase                           86554 non-null  object \n",
      " 83  ConvertedCompYearly                  48019 non-null  float64\n",
      "dtypes: float64(3), int64(1), object(80)\n",
      "memory usage: 57.2+ MB\n"
     ]
    }
   ],
   "source": [
    "df.info()"
   ]
  },
  {
   "cell_type": "code",
   "execution_count": 10,
   "id": "a102c709",
   "metadata": {},
   "outputs": [
    {
     "name": "stdout",
     "output_type": "stream",
     "text": [
      "Potential regression targets:\n",
      "ResponseId: count    89184.000000\n",
      "mean     44592.500000\n",
      "std      25745.347541\n",
      "min          1.000000\n",
      "25%      22296.750000\n",
      "50%      44592.500000\n",
      "75%      66888.250000\n",
      "max      89184.000000\n",
      "Name: ResponseId, dtype: float64\n",
      "CompTotal: count    4.822500e+04\n",
      "mean     1.036807e+42\n",
      "std      2.276847e+44\n",
      "min      0.000000e+00\n",
      "25%      6.300000e+04\n",
      "50%      1.150000e+05\n",
      "75%      2.300000e+05\n",
      "max      5.000000e+46\n",
      "Name: CompTotal, dtype: float64\n",
      "WorkExp: count    43579.000000\n",
      "mean        11.405126\n",
      "std          9.051989\n",
      "min          0.000000\n",
      "25%          5.000000\n",
      "50%          9.000000\n",
      "75%         16.000000\n",
      "max         50.000000\n",
      "Name: WorkExp, dtype: float64\n",
      "ConvertedCompYearly: count    4.801900e+04\n",
      "mean     1.031101e+05\n",
      "std      6.814188e+05\n",
      "min      1.000000e+00\n",
      "25%      4.390700e+04\n",
      "50%      7.496300e+04\n",
      "75%      1.216410e+05\n",
      "max      7.435143e+07\n",
      "Name: ConvertedCompYearly, dtype: float64\n"
     ]
    }
   ],
   "source": [
    "# Look for numerical columns that could be targets\n",
    "\n",
    "numerical_cols = df.select_dtypes(include=[np.number]).columns\n",
    "print(\"Potential regression targets:\")\n",
    "for col in numerical_cols:\n",
    "    print(f\"{col}: {df[col].describe()}\")"
   ]
  },
  {
   "cell_type": "markdown",
   "id": "4910a9c5",
   "metadata": {},
   "source": [
    "### ___EDA___"
   ]
  },
  {
   "cell_type": "code",
   "execution_count": 11,
   "id": "1a34d9c7",
   "metadata": {},
   "outputs": [
    {
     "name": "stdout",
     "output_type": "stream",
     "text": [
      "EdLevel: object\n",
      "YearsCode: object\n",
      "YearsCodePro: object\n",
      "DevType: object\n",
      "OrgSize: object\n",
      "TechList: object\n",
      "LanguageHaveWorkedWith: object\n",
      "PlatformHaveWorkedWith: object\n",
      "WebframeHaveWorkedWith: object\n",
      "ToolsTechHaveWorkedWith: object\n",
      "WorkExp: float64\n",
      "Industry: object\n",
      "ProfessionalTech: object\n"
     ]
    }
   ],
   "source": [
    "# Get all object columns from your selected features\n",
    "selected_features = ['EdLevel', 'YearsCode', 'YearsCodePro', 'DevType', 'OrgSize', \n",
    "                    'TechList', 'LanguageHaveWorkedWith', 'PlatformHaveWorkedWith', \n",
    "                    'WebframeHaveWorkedWith', 'ToolsTechHaveWorkedWith', 'WorkExp', \n",
    "                    'Industry', 'ProfessionalTech']\n",
    "\n",
    "# Check which are object vs numeric\n",
    "for col in selected_features:\n",
    "    print(f\"{col}: {df[col].dtype}\")"
   ]
  },
  {
   "cell_type": "code",
   "execution_count": 12,
   "id": "d3c939a1",
   "metadata": {},
   "outputs": [
    {
     "data": {
      "image/png": "[encoded data removed]",
      "text/plain": [
       "<Figure size 640x480 with 1 Axes>"
      ]
     },
     "metadata": {},
     "output_type": "display_data"
    }
   ],
   "source": [
    "sns.scatterplot(x='YearsCode', y='ConvertedCompYearly', data=df, alpha=0.3)\n",
    "plt.ylim(0, df['ConvertedCompYearly'].quantile(0.99))  # zoom out outliers\n",
    "plt.show()"
   ]
  },
  {
   "cell_type": "code",
   "execution_count": 13,
   "id": "67a7e3e2",
   "metadata": {},
   "outputs": [
    {
     "data": {
      "image/png": "[encoded data removed]",
      "text/plain": [
       "<Figure size 640x480 with 1 Axes>"
      ]
     },
     "metadata": {},
     "output_type": "display_data"
    }
   ],
   "source": [
    "import numpy as np\n",
    "df['LogSalary'] = np.log1p(df['ConvertedCompYearly'])\n",
    "\n",
    "sns.scatterplot(x='YearsCode', y='LogSalary', data=df, alpha=0.3)\n",
    "plt.title(\"Years of Code vs Log(Salary)\")\n",
    "plt.show()"
   ]
  },
  {
   "cell_type": "markdown",
   "id": "9b1696d7",
   "metadata": {},
   "source": [
    "##### The above code shows total distint survey answers that are in the different combination, each counts as an entry but now as a language. Python, Java and Java, Python are trated separately. Hence, after separation, only unique entries are being extracted. "
   ]
  },
  {
   "cell_type": "code",
   "execution_count": 14,
   "id": "213280ba",
   "metadata": {},
   "outputs": [
    {
     "name": "stdout",
     "output_type": "stream",
     "text": [
      "Parsed LanguageHaveWorkedWith: 51 unique values\n",
      "Parsed TechList: 3 unique values\n",
      "Parsed PlatformHaveWorkedWith: 23 unique values\n",
      "Parsed WebframeHaveWorkedWith: 34 unique values\n",
      "Parsed ToolsTechHaveWorkedWith: 55 unique values\n",
      "Parsed ProfessionalTech: 9 unique values\n"
     ]
    }
   ],
   "source": [
    "multi_label_cols = [\n",
    "    'LanguageHaveWorkedWith',\n",
    "    'TechList',\n",
    "    'PlatformHaveWorkedWith',\n",
    "    'WebframeHaveWorkedWith',\n",
    "    'ToolsTechHaveWorkedWith',\n",
    "    'ProfessionalTech'\n",
    "]\n",
    "\n",
    "# keep track of how many unique values we discover\n",
    "multi_label_stats = {}\n",
    "\n",
    "for col in multi_label_cols:\n",
    "    if col in df.columns:\n",
    "        dummies = df[col].str.get_dummies(sep=';')\n",
    "        print(f\"Parsed {col}: {dummies.shape[1]} unique values\")\n",
    "        multi_label_stats[col] = dummies.shape[1]\n",
    "        \n",
    "        # optionally join back to main df\n",
    "        df = pd.concat([df, dummies], axis=1)\n",
    "    else:\n",
    "        print(f\"Column {col} not found in dataset.\")"
   ]
  },
  {
   "cell_type": "code",
   "execution_count": 15,
   "id": "caca0c4d",
   "metadata": {},
   "outputs": [],
   "source": [
    "features_original = df[['YearsCode', 'YearsCodePro', 'WorkExp', 'ConvertedCompYearly', 'EdLevel', 'DevType', 'OrgSize', 'TechList', 'LanguageHaveWorkedWith', \n",
    "                'PlatformHaveWorkedWith', 'WebframeHaveWorkedWith', \n",
    "                'ToolsTechHaveWorkedWith', 'Industry', 'ProfessionalTech', 'Country', 'Employment', 'Age']]"
   ]
  },
  {
   "cell_type": "code",
   "execution_count": 16,
   "id": "d1799da1",
   "metadata": {},
   "outputs": [],
   "source": [
    "features = features_original.copy()"
   ]
  },
  {
   "cell_type": "code",
   "execution_count": 17,
   "id": "ab785206",
   "metadata": {},
   "outputs": [
    {
     "name": "stdout",
     "output_type": "stream",
     "text": [
      "Country: 185 unique values\n",
      "Employment: 106 unique values\n",
      "YearsCodePro: 52 unique values\n",
      "Age: 8 unique values\n"
     ]
    }
   ],
   "source": [
    "for col in ['Country', 'Employment', 'CompanySize', 'YearsCodePro', 'Age']:\n",
    "    if col in df.columns:\n",
    "        print(f\"{col}: {df[col].nunique()} unique values\")"
   ]
  },
  {
   "cell_type": "code",
   "execution_count": 18,
   "id": "ce19be70",
   "metadata": {},
   "outputs": [
    {
     "name": "stdout",
     "output_type": "stream",
     "text": [
      "YearsCodePro\n",
      "5     4792\n",
      "10    4594\n",
      "2     4464\n",
      "3     4378\n",
      "4     3970\n",
      "Name: count, dtype: int64\n",
      "['5', '10', '2', '3', '4']\n",
      "Most frequent value: 5\n"
     ]
    }
   ],
   "source": [
    "# Method 1: Using value_counts() - most common approach\n",
    "top_5_values = features['YearsCodePro'].value_counts().head(5)\n",
    "print(top_5_values)\n",
    "\n",
    "# Method 2: If you just want the values (not counts)\n",
    "top_5_values_only = features['YearsCodePro'].value_counts().head(5).index.tolist()\n",
    "print(top_5_values_only)\n",
    "\n",
    "# Method 3: Using mode() for the most frequent value only\n",
    "most_frequent = features['YearsCodePro'].mode()[0]  # mode() returns a Series\n",
    "print(f\"Most frequent value: {most_frequent}\")"
   ]
  },
  {
   "cell_type": "code",
   "execution_count": 19,
   "id": "7a26ebf5",
   "metadata": {},
   "outputs": [
    {
     "name": "stdout",
     "output_type": "stream",
     "text": [
      "YearsCodePro\n",
      "Less than 1 year      1836\n",
      "More than 50 years      83\n",
      "Name: count, dtype: int64\n"
     ]
    }
   ],
   "source": [
    "# Look for values containing specific words\n",
    "text_mask = features['YearsCodePro'].str.contains('year|than|less|more', case=False, na=False)\n",
    "text_values = features[text_mask]['YearsCodePro']\n",
    "print(text_values.value_counts())"
   ]
  },
  {
   "cell_type": "code",
   "execution_count": 20,
   "id": "0f02d2b9",
   "metadata": {},
   "outputs": [],
   "source": [
    "# Converting 'Less than 1 year' to 0. Making 'More than 50 years' with NaN and replacing it with median values in the imputer.\n",
    "\n",
    "def convert_experience(value):\n",
    "    if pd.isna(value):\n",
    "        return np.nan\n",
    "    \n",
    "    value_str = str(value).lower()\n",
    "\n",
    "    if any(phrase in value_str for phrase in ['Less than', 'than 1', '<1', 'less than 1']):\n",
    "        return 0\n",
    "    else:\n",
    "        return pd.to_numeric(value, errors='coerce')\n",
    "    \n",
    "features['YearsCodePro'] = features['YearsCodePro'].apply(convert_experience)"
   ]
  },
  {
   "cell_type": "code",
   "execution_count": 21,
   "id": "16c4c3f7",
   "metadata": {},
   "outputs": [
    {
     "name": "stdout",
     "output_type": "stream",
     "text": [
      "Final result:\n",
      "Data type: int64\n"
     ]
    }
   ],
   "source": [
    "# Ref in Journal. \n",
    "\n",
    "# Inputing YearsCodePro to handle 20000+ missing values that are required to convert it to 'int' type for further analysis. \n",
    "\n",
    "from sklearn.impute import SimpleImputer\n",
    "\n",
    "# Step 1: Convert to numeric, coercing errors to NaN\n",
    "features['YearsCodePro'] = pd.to_numeric(features['YearsCodePro'], errors='coerce')\n",
    "\n",
    "imputer = SimpleImputer(strategy='median')\n",
    "\n",
    "features['YearsCodePro'] = imputer.fit_transform(features[['YearsCodePro']]).flatten()\n",
    "\n",
    "features['YearsCodePro'] = features['YearsCodePro'].astype(int)\n",
    "\n",
    "print(\"Final result:\")\n",
    "print(\"Data type:\", features['YearsCodePro'].dtype)\n"
   ]
  },
  {
   "cell_type": "code",
   "execution_count": 22,
   "id": "8b21951a",
   "metadata": {},
   "outputs": [
    {
     "data": {
      "text/plain": [
       "Employment\n",
       "Employed, full-time                                                                                                                  53748\n",
       "Student, full-time                                                                                                                    7430\n",
       "Independent contractor, freelancer, or self-employed                                                                                  7076\n",
       "Employed, full-time;Independent contractor, freelancer, or self-employed                                                              4354\n",
       "Not employed, but looking for work                                                                                                    2553\n",
       "                                                                                                                                     ...  \n",
       "Independent contractor, freelancer, or self-employed;Student, full-time;Student, part-time;Not employed, and not looking for work        1\n",
       "Employed, full-time;Student, full-time;Employed, part-time;Student, part-time;Not employed, and not looking for work                     1\n",
       "Independent contractor, freelancer, or self-employed;Not employed, but looking for work;Employed, part-time;Retired                      1\n",
       "Employed, full-time;Not employed, but looking for work;Student, full-time;Employed, part-time;Student, part-time                         1\n",
       "Employed, full-time;Not employed, but looking for work;Employed, part-time;Student, part-time                                            1\n",
       "Name: count, Length: 106, dtype: int64"
      ]
     },
     "execution_count": 22,
     "metadata": {},
     "output_type": "execute_result"
    }
   ],
   "source": [
    "features['Employment'].value_counts()"
   ]
  },
  {
   "cell_type": "code",
   "execution_count": 23,
   "id": "9145e17f",
   "metadata": {},
   "outputs": [],
   "source": [
    "# Bucketizing 'Employment' to 5 total categories to reduce noise and easily measure effects/correlation of each category. There are a lot of ';' separated values that have to be taken care of.\n",
    "\n",
    "# Step 1: Create a function to determine primary employment status\n",
    "def categorize_employment(employment_str):\n",
    "    if pd.isna(employment_str):\n",
    "        return 'Unknown'\n",
    "    \n",
    "    employment_str = str(employment_str).lower()\n",
    "    \n",
    "    # Define priority order (most important status first)\n",
    "    if 'employed, full-time' in employment_str:\n",
    "        return 'Full-time Employed'\n",
    "    elif 'student, full-time' in employment_str:\n",
    "        return 'Student'\n",
    "    elif 'independent contractor' in employment_str or 'freelancer' in employment_str or 'self-employed' in employment_str:\n",
    "        return 'Freelancer/Self-employed'\n",
    "    elif 'employed, part-time' in employment_str:\n",
    "        return 'Part-time Employed'\n",
    "    elif 'not employed, but looking' in employment_str:\n",
    "        return 'Unemployed (Looking)'\n",
    "    elif 'student, part-time' in employment_str:\n",
    "        return 'Student'\n",
    "    elif 'retired' in employment_str:\n",
    "        return 'Other'\n",
    "    elif 'not employed, and not looking' in employment_str:\n",
    "        return 'Other'\n",
    "    else:\n",
    "        return 'Other'\n",
    "\n",
    "# Step 2: Apply the categorization\n",
    "features['Employment_Category'] = features['Employment'].apply(categorize_employment)"
   ]
  },
  {
   "cell_type": "code",
   "execution_count": 24,
   "id": "65ee2284",
   "metadata": {},
   "outputs": [],
   "source": [
    "features = features.drop('Employment', axis=1)"
   ]
  },
  {
   "cell_type": "code",
   "execution_count": 25,
   "id": "2aff4bb1",
   "metadata": {},
   "outputs": [
    {
     "name": "stdout",
     "output_type": "stream",
     "text": [
      "Rows with semicolon-separated values: 52575\n"
     ]
    }
   ],
   "source": [
    "has_semicolon = features['WebframeHaveWorkedWith'].str.contains(';', na=False)\n",
    "print(f\"Rows with semicolon-separated values: {has_semicolon.sum()}\")"
   ]
  },
  {
   "cell_type": "code",
   "execution_count": 26,
   "id": "85a06038",
   "metadata": {},
   "outputs": [],
   "source": [
    "# Split by semicolon and take the first value as primary webframe\n",
    "features['WebframeHaveWorkedWith'] = features['WebframeHaveWorkedWith'].str.split(';').str[0]"
   ]
  },
  {
   "cell_type": "code",
   "execution_count": 27,
   "id": "a0d0af4c",
   "metadata": {},
   "outputs": [
    {
     "name": "stdout",
     "output_type": "stream",
     "text": [
      "Rows with semicolon=seprated values: 0\n"
     ]
    }
   ],
   "source": [
    "has_semicolon_after = features['WebframeHaveWorkedWith'].str.contains(';', na=False)\n",
    "print(f\"Rows with semicolon=seprated values: {has_semicolon_after.sum()}\")"
   ]
  },
  {
   "cell_type": "code",
   "execution_count": 28,
   "id": "a32c6e88",
   "metadata": {},
   "outputs": [],
   "source": [
    "missing_count = features['WebframeHaveWorkedWith'].isna().sum()\n",
    "\n",
    "if missing_count > 0:\n",
    "    imputer = SimpleImputer(strategy='most_frequent')\n",
    "    features['WebframeHaveWorkedWith'] = imputer.fit_transform(features[['WebframeHaveWorkedWith']]).flatten()"
   ]
  },
  {
   "cell_type": "code",
   "execution_count": 29,
   "id": "d13604a9",
   "metadata": {},
   "outputs": [],
   "source": [
    "from sklearn.impute import SimpleImputer\n",
    "\n",
    "imputer_most_freq = SimpleImputer(strategy='most_frequent')\n",
    "features['PlatformHaveWorkedWith'] = imputer.fit_transform(features[['PlatformHaveWorkedWith']]).flatten()"
   ]
  },
  {
   "cell_type": "code",
   "execution_count": 30,
   "id": "a87143b7",
   "metadata": {},
   "outputs": [
    {
     "data": {
      "text/plain": [
       "PlatformHaveWorkedWith\n",
       "Amazon Web Services (AWS)                                                                35360\n",
       "Microsoft Azure                                                                           5945\n",
       "Google Cloud                                                                              2495\n",
       "Amazon Web Services (AWS);Microsoft Azure                                                 2192\n",
       "Amazon Web Services (AWS);Google Cloud                                                    1810\n",
       "                                                                                         ...  \n",
       "Amazon Web Services (AWS);Digital Ocean;Fly.io;Google Cloud;Linode, now Akamai;VMware        1\n",
       "Google Cloud;IBM Cloud Or Watson;Vercel;VMware                                               1\n",
       "Heroku;Linode, now Akamai;VMware                                                             1\n",
       "Google Cloud;Hetzner;Vultr                                                                   1\n",
       "Cloudflare;Google Cloud;Managed Hosting;Microsoft Azure;OpenShift;Render                     1\n",
       "Name: count, Length: 5920, dtype: int64"
      ]
     },
     "execution_count": 30,
     "metadata": {},
     "output_type": "execute_result"
    }
   ],
   "source": [
    "features['PlatformHaveWorkedWith'].value_counts()"
   ]
  },
  {
   "cell_type": "code",
   "execution_count": 31,
   "id": "394845c1",
   "metadata": {},
   "outputs": [],
   "source": [
    "platforms_with_semicolon = features['PlatformHaveWorkedWith'].str.contains(';', na=False)\n",
    "\n",
    "features['PlatformHaveWorkedWith'] = features['PlatformHaveWorkedWith'].str.split(';').str[0]"
   ]
  },
  {
   "cell_type": "code",
   "execution_count": 32,
   "id": "8e33e20f",
   "metadata": {},
   "outputs": [
    {
     "name": "stdout",
     "output_type": "stream",
     "text": [
      "Rows with semicolons after processing: 0\n"
     ]
    }
   ],
   "source": [
    "platforms_with_semicolon_after = features['PlatformHaveWorkedWith'].str.contains(';', na=False)\n",
    "print(f\"Rows with semicolons after processing: {platforms_with_semicolon_after.sum()}\")"
   ]
  },
  {
   "cell_type": "code",
   "execution_count": 33,
   "id": "3d7a45ab",
   "metadata": {},
   "outputs": [],
   "source": [
    "# Total columns in Features: \n",
    "\n",
    "# Index(['YearsCode', 'YearsCodePro', 'WorkExp', 'ConvertedCompYearly',\n",
    "  #     'EdLevel', 'DevType', 'OrgSize', 'TechList', 'LanguageHaveWorkedWith',\n",
    "   #    'PlatformHaveWorkedWith', 'WebframeHaveWorkedWith',\n",
    "    #   'ToolsTechHaveWorkedWith', 'Industry', 'ProfessionalTech', 'Country',\n",
    "     #  'Age', 'LogSalary', 'Employment_Category'],\n",
    "      #dtype='object')\n",
    "\n",
    "# Columns converted/taken care of: 'YearsCodePro', 'ConvertedCompyYearly' (now LogSalary), 'OrgSize', 'LanguageHaveWorkedWith', 'PlatformHaveWorkedWith', 'WebframeHaveWorkedWith',\n",
    "# 'Country', 'EmploymentCategory'\n",
    "\n",
    "# Remaining: 'WorkExp', 'EdLevel', 'DevType', 'TechList', 'ProfessionalTech'"
   ]
  },
  {
   "cell_type": "code",
   "execution_count": 34,
   "id": "34714454",
   "metadata": {},
   "outputs": [],
   "source": [
    "def bucketize_education(edlevel):\n",
    "    \"\"\"\n",
    "    Bucketize education levels into 5 meaningful categories\n",
    "    \"\"\"\n",
    "    if pd.isna(edlevel):\n",
    "        return 'No_Degree'\n",
    "    \n",
    "    edlevel = str(edlevel).lower()\n",
    "    \n",
    "    if any(x in edlevel for x in ['doctoral', 'phd', 'doctorate']):\n",
    "        return 'PhD'\n",
    "    elif any(x in edlevel for x in ['master', 'graduate']):\n",
    "        return 'Masters' \n",
    "    elif any(x in edlevel for x in ['bachelor', 'undergraduate']):\n",
    "        return 'Bachelors'\n",
    "    elif any(x in edlevel for x in ['associate', 'some college']):\n",
    "        return 'Associates'\n",
    "    else:\n",
    "        return 'No_Degree'"
   ]
  },
  {
   "cell_type": "code",
   "execution_count": 35,
   "id": "ea42754b",
   "metadata": {},
   "outputs": [],
   "source": [
    "def bucketize_devtype(devtype):\n",
    "    \"\"\"\n",
    "    Bucketize developer types prioritizing by typical salary impact\n",
    "    \"\"\"\n",
    "    if pd.isna(devtype):\n",
    "        return 'Other'\n",
    "    \n",
    "    # Handle semicolon-separated values - prioritize by salary impact\n",
    "    devtype = str(devtype).lower()\n",
    "    \n",
    "    # Check for highest-paying roles first\n",
    "    if any(x in devtype for x in ['data scientist', 'machine learning', 'data engineer']):\n",
    "        return 'Data_Science'\n",
    "    elif any(x in devtype for x in ['engineering manager', 'product manager', 'senior executive']):\n",
    "        return 'Leadership'\n",
    "    elif any(x in devtype for x in ['backend', 'full-stack', 'software engineer']):\n",
    "        return 'Engineering'\n",
    "    elif any(x in devtype for x in ['frontend', 'mobile', 'game']):\n",
    "        return 'Frontend'\n",
    "    else:\n",
    "        return 'Other'"
   ]
  },
  {
   "cell_type": "code",
   "execution_count": 36,
   "id": "3e93e84a",
   "metadata": {},
   "outputs": [],
   "source": [
    "features['EdLevel'] = features['EdLevel'].apply(bucketize_education)"
   ]
  },
  {
   "cell_type": "code",
   "execution_count": 37,
   "id": "1b5e8dad",
   "metadata": {},
   "outputs": [],
   "source": [
    "features['DevType'] = features['DevType'].apply(bucketize_devtype)"
   ]
  },
  {
   "cell_type": "code",
   "execution_count": 38,
   "id": "630ef6cd",
   "metadata": {},
   "outputs": [],
   "source": [
    "def bucketize_professional_tech_multiple(tech_string):\n",
    "    \"\"\"\n",
    "    Applies hierarchical keyword-based bucketing to a semi-colon separated string of technologies.\n",
    "    It iterates through each technology and assigns the first bucket that matches.\n",
    "    \"\"\"\n",
    "    if pd.isna(tech_string):\n",
    "        return 'None'\n",
    "    \n",
    "    lower_tech_string = str(tech_string).lower()\n",
    "\n",
    "    if 'none of these' in lower_tech_string:\n",
    "        return 'None'\n",
    "\n",
    "    buckets = {\n",
    "        # No change to these top categories\n",
    "        'AI/ML': ['ai', 'machine learning', 'ml', 'deep learning', 'neural network', 'nlp', 'natural language', 'computer vision', 'tensorflow', 'pytorch', 'keras', 'scikit-learn', 'openai'],\n",
    "        'Data Science & Analytics': ['data science', 'data analysis', 'analytics', 'big data', 'hadoop', 'spark', 'pandas', 'numpy', 'tableau', 'power bi', 'databricks', 'snowflake'],\n",
    "        \n",
    "        # ADD 'observability' to this bucket\n",
    "        'DevOps & Cloud': ['devops', 'ci/cd', 'continuous integration', 'continuous delivery', 'docker', 'kubernetes', 'terraform', 'ansible', 'jenkins', 'aws', 'azure', 'gcp', 'cloud', 'observability'],\n",
    "        \n",
    "        # No change to these categories yet\n",
    "        'Web Development': ['web', 'frontend', 'backend', 'full-stack', 'javascript', 'react', 'angular', 'vue', 'node.js', 'django', 'flask', 'ruby on rails', 'php', 'asp.net'],\n",
    "        'Mobile Development': ['mobile', 'ios', 'android', 'swift', 'kotlin', 'react native', 'flutter', 'xamarin'],\n",
    "        'Databases': ['database', 'sql', 'nosql', 'postgresql', 'mysql', 'sql server', 'mongodb', 'redis', 'cassandra', 'firebase'],\n",
    "        'Testing & QA': ['testing', 'qa', 'quality assurance', 'selenium', 'jest', 'pytest', 'cypress', 'junit'],\n",
    "        'Security': ['security', 'cybersecurity', 'infosec', 'penetration testing', 'pen testing'],\n",
    "        'Developer Tools': ['git', 'github', 'gitlab', 'jira', 'visual studio code', 'ide'],\n",
    "        \n",
    "        # ✨ NEW BUCKET ✨\n",
    "        'Architecture & Practices': ['microservices', 'developer portal', 'innersource']\n",
    "    }\n",
    "\n",
    "    listed_techs = [tech.strip().lower() for tech in str(tech_string).split(';')]\n",
    "\n",
    "    for tech in listed_techs:\n",
    "        for bucket, keywords in buckets.items():\n",
    "            if any(keyword in tech for keyword in keywords):\n",
    "                return bucket  # Return the first bucket that matches\n",
    "\n",
    "    return 'Other'"
   ]
  },
  {
   "cell_type": "code",
   "execution_count": 39,
   "id": "eaf6ca6f",
   "metadata": {},
   "outputs": [],
   "source": [
    "features['ProfessionalTech'] = df['ProfessionalTech'].apply(bucketize_professional_tech_multiple)"
   ]
  },
  {
   "cell_type": "code",
   "execution_count": 40,
   "id": "c4ca5eb6",
   "metadata": {},
   "outputs": [
    {
     "data": {
      "text/plain": [
       "ProfessionalTech\n",
       "None                        52385\n",
       "DevOps & Cloud              26803\n",
       "Architecture & Practices     5578\n",
       "Testing & QA                 4173\n",
       "AI/ML                         245\n",
       "Name: count, dtype: int64"
      ]
     },
     "execution_count": 40,
     "metadata": {},
     "output_type": "execute_result"
    }
   ],
   "source": [
    "features['ProfessionalTech'].value_counts()"
   ]
  },
  {
   "cell_type": "code",
   "execution_count": 41,
   "id": "bf8b5dbd",
   "metadata": {},
   "outputs": [
    {
     "data": {
      "text/html": [
       "<div>\n",
       "<style scoped>\n",
       "    .dataframe tbody tr th:only-of-type {\n",
       "        vertical-align: middle;\n",
       "    }\n",
       "\n",
       "    .dataframe tbody tr th {\n",
       "        vertical-align: top;\n",
       "    }\n",
       "\n",
       "    .dataframe thead th {\n",
       "        text-align: right;\n",
       "    }\n",
       "</style>\n",
       "<table border=\"1\" class=\"dataframe\">\n",
       "  <thead>\n",
       "    <tr style=\"text-align: right;\">\n",
       "      <th></th>\n",
       "      <th>YearsCode</th>\n",
       "      <th>YearsCodePro</th>\n",
       "      <th>WorkExp</th>\n",
       "      <th>ConvertedCompYearly</th>\n",
       "      <th>EdLevel</th>\n",
       "      <th>DevType</th>\n",
       "      <th>OrgSize</th>\n",
       "      <th>TechList</th>\n",
       "      <th>LanguageHaveWorkedWith</th>\n",
       "      <th>PlatformHaveWorkedWith</th>\n",
       "      <th>WebframeHaveWorkedWith</th>\n",
       "      <th>ToolsTechHaveWorkedWith</th>\n",
       "      <th>Industry</th>\n",
       "      <th>ProfessionalTech</th>\n",
       "      <th>Country</th>\n",
       "      <th>Age</th>\n",
       "      <th>Employment_Category</th>\n",
       "    </tr>\n",
       "  </thead>\n",
       "  <tbody>\n",
       "    <tr>\n",
       "      <th>0</th>\n",
       "      <td>NaN</td>\n",
       "      <td>9</td>\n",
       "      <td>NaN</td>\n",
       "      <td>NaN</td>\n",
       "      <td>No_Degree</td>\n",
       "      <td>Other</td>\n",
       "      <td>NaN</td>\n",
       "      <td>NaN</td>\n",
       "      <td>NaN</td>\n",
       "      <td>Amazon Web Services (AWS)</td>\n",
       "      <td>Angular</td>\n",
       "      <td>NaN</td>\n",
       "      <td>NaN</td>\n",
       "      <td>None</td>\n",
       "      <td>NaN</td>\n",
       "      <td>18-24 years old</td>\n",
       "      <td>Unknown</td>\n",
       "    </tr>\n",
       "    <tr>\n",
       "      <th>1</th>\n",
       "      <td>18</td>\n",
       "      <td>9</td>\n",
       "      <td>10.0</td>\n",
       "      <td>285000.0</td>\n",
       "      <td>Bachelors</td>\n",
       "      <td>Leadership</td>\n",
       "      <td>2 to 9 employees</td>\n",
       "      <td>Investigate</td>\n",
       "      <td>HTML/CSS;JavaScript;Python</td>\n",
       "      <td>Amazon Web Services (AWS)</td>\n",
       "      <td>Next.js</td>\n",
       "      <td>Docker;Kubernetes;npm;Pip;Vite;Webpack;Yarn</td>\n",
       "      <td>Information Services, IT, Software Development...</td>\n",
       "      <td>DevOps &amp; Cloud</td>\n",
       "      <td>United States of America</td>\n",
       "      <td>25-34 years old</td>\n",
       "      <td>Full-time Employed</td>\n",
       "    </tr>\n",
       "    <tr>\n",
       "      <th>2</th>\n",
       "      <td>27</td>\n",
       "      <td>23</td>\n",
       "      <td>23.0</td>\n",
       "      <td>250000.0</td>\n",
       "      <td>Bachelors</td>\n",
       "      <td>Other</td>\n",
       "      <td>5,000 to 9,999 employees</td>\n",
       "      <td>Given a list</td>\n",
       "      <td>Bash/Shell (all shells);Go</td>\n",
       "      <td>Amazon Web Services (AWS)</td>\n",
       "      <td>Angular</td>\n",
       "      <td>Cargo;Docker;Kubernetes;Make;Nix</td>\n",
       "      <td>Information Services, IT, Software Development...</td>\n",
       "      <td>DevOps &amp; Cloud</td>\n",
       "      <td>United States of America</td>\n",
       "      <td>45-54 years old</td>\n",
       "      <td>Full-time Employed</td>\n",
       "    </tr>\n",
       "    <tr>\n",
       "      <th>3</th>\n",
       "      <td>12</td>\n",
       "      <td>7</td>\n",
       "      <td>7.0</td>\n",
       "      <td>156000.0</td>\n",
       "      <td>Bachelors</td>\n",
       "      <td>Other</td>\n",
       "      <td>100 to 499 employees</td>\n",
       "      <td>Investigate</td>\n",
       "      <td>Bash/Shell (all shells);HTML/CSS;JavaScript;PH...</td>\n",
       "      <td>Cloudflare</td>\n",
       "      <td>Node.js</td>\n",
       "      <td>Homebrew;npm;Vite;Webpack;Yarn</td>\n",
       "      <td>NaN</td>\n",
       "      <td>Testing &amp; QA</td>\n",
       "      <td>United States of America</td>\n",
       "      <td>25-34 years old</td>\n",
       "      <td>Full-time Employed</td>\n",
       "    </tr>\n",
       "    <tr>\n",
       "      <th>4</th>\n",
       "      <td>6</td>\n",
       "      <td>4</td>\n",
       "      <td>6.0</td>\n",
       "      <td>23456.0</td>\n",
       "      <td>Bachelors</td>\n",
       "      <td>Engineering</td>\n",
       "      <td>20 to 99 employees</td>\n",
       "      <td>Investigate</td>\n",
       "      <td>HTML/CSS;JavaScript;TypeScript</td>\n",
       "      <td>Amazon Web Services (AWS)</td>\n",
       "      <td>Express</td>\n",
       "      <td>Docker;npm;Webpack;Yarn</td>\n",
       "      <td>Other</td>\n",
       "      <td>Architecture &amp; Practices</td>\n",
       "      <td>Philippines</td>\n",
       "      <td>25-34 years old</td>\n",
       "      <td>Full-time Employed</td>\n",
       "    </tr>\n",
       "  </tbody>\n",
       "</table>\n",
       "</div>"
      ],
      "text/plain": [
       "  YearsCode  YearsCodePro  WorkExp  ConvertedCompYearly    EdLevel  \\\n",
       "0       NaN             9      NaN                  NaN  No_Degree   \n",
       "1        18             9     10.0             285000.0  Bachelors   \n",
       "2        27            23     23.0             250000.0  Bachelors   \n",
       "3        12             7      7.0             156000.0  Bachelors   \n",
       "4         6             4      6.0              23456.0  Bachelors   \n",
       "\n",
       "       DevType                   OrgSize      TechList  \\\n",
       "0        Other                       NaN           NaN   \n",
       "1   Leadership          2 to 9 employees   Investigate   \n",
       "2        Other  5,000 to 9,999 employees  Given a list   \n",
       "3        Other      100 to 499 employees   Investigate   \n",
       "4  Engineering        20 to 99 employees   Investigate   \n",
       "\n",
       "                              LanguageHaveWorkedWith  \\\n",
       "0                                                NaN   \n",
       "1                         HTML/CSS;JavaScript;Python   \n",
       "2                         Bash/Shell (all shells);Go   \n",
       "3  Bash/Shell (all shells);HTML/CSS;JavaScript;PH...   \n",
       "4                     HTML/CSS;JavaScript;TypeScript   \n",
       "\n",
       "      PlatformHaveWorkedWith WebframeHaveWorkedWith  \\\n",
       "0  Amazon Web Services (AWS)                Angular   \n",
       "1  Amazon Web Services (AWS)                Next.js   \n",
       "2  Amazon Web Services (AWS)                Angular   \n",
       "3                 Cloudflare                Node.js   \n",
       "4  Amazon Web Services (AWS)                Express   \n",
       "\n",
       "                       ToolsTechHaveWorkedWith  \\\n",
       "0                                          NaN   \n",
       "1  Docker;Kubernetes;npm;Pip;Vite;Webpack;Yarn   \n",
       "2             Cargo;Docker;Kubernetes;Make;Nix   \n",
       "3               Homebrew;npm;Vite;Webpack;Yarn   \n",
       "4                      Docker;npm;Webpack;Yarn   \n",
       "\n",
       "                                            Industry  \\\n",
       "0                                                NaN   \n",
       "1  Information Services, IT, Software Development...   \n",
       "2  Information Services, IT, Software Development...   \n",
       "3                                                NaN   \n",
       "4                                              Other   \n",
       "\n",
       "           ProfessionalTech                   Country              Age  \\\n",
       "0                      None                       NaN  18-24 years old   \n",
       "1            DevOps & Cloud  United States of America  25-34 years old   \n",
       "2            DevOps & Cloud  United States of America  45-54 years old   \n",
       "3              Testing & QA  United States of America  25-34 years old   \n",
       "4  Architecture & Practices               Philippines  25-34 years old   \n",
       "\n",
       "  Employment_Category  \n",
       "0             Unknown  \n",
       "1  Full-time Employed  \n",
       "2  Full-time Employed  \n",
       "3  Full-time Employed  \n",
       "4  Full-time Employed  "
      ]
     },
     "execution_count": 41,
     "metadata": {},
     "output_type": "execute_result"
    }
   ],
   "source": [
    "features['ConvertedCompYearly'] = df['ConvertedCompYearly']\n",
    "features.head(5)"
   ]
  },
  {
   "cell_type": "code",
   "execution_count": 42,
   "id": "fcacadfb",
   "metadata": {},
   "outputs": [],
   "source": [
    "# Progress: \n",
    "\n",
    "# Index(['YearsCode', 'YearsCodePro', 'WorkExp', 'ConvertedCompYearly',\n",
    "  #     'EdLevel', 'DevType', 'OrgSize', 'TechList', 'LanguageHaveWorkedWith',\n",
    "   #    'PlatformHaveWorkedWith', 'WebframeHaveWorkedWith',\n",
    "    #   'ToolsTechHaveWorkedWith', 'Industry', 'ProfessionalTech', 'Country',\n",
    "     #  'Age', 'LogSalary', 'Employment_Category'],\n",
    "      #dtype='object')\n",
    "\n",
    "# Columns converted/taken care of: 'YearsCodePro', 'ConvertedCompyYearly' (now LogSalary), 'OrgSize', 'PlatformHaveWorkedWith', 'WebframeHaveWorkedWith',\n",
    "# 'Country', 'EmploymentCategory', 'WorkExp', 'EdLevel', 'DevType', 'TechList', 'ProfessionalTech' \n",
    "\n",
    "# Remaining: 'LanguageHaveWorkedWith', 'WorkExp', 'Industry'"
   ]
  },
  {
   "cell_type": "code",
   "execution_count": 43,
   "id": "395a4ec7",
   "metadata": {},
   "outputs": [],
   "source": [
    "from sklearn.impute import SimpleImputer\n",
    "\n",
    "salary_imputer = SimpleImputer(strategy='Median')\n",
    "\n",
    "salary_column = features['ConvertedCompYearly'].values.reshape(-1, 1)\n",
    "\n",
    "imputed_salary = imputer.fit_transform(salary_column)"
   ]
  },
  {
   "cell_type": "code",
   "execution_count": 44,
   "id": "23fb12b9",
   "metadata": {},
   "outputs": [],
   "source": [
    "features['ConvertedCompYearly'] = imputed_salary"
   ]
  },
  {
   "cell_type": "code",
   "execution_count": 45,
   "id": "10ef8297",
   "metadata": {},
   "outputs": [
    {
     "name": "stdout",
     "output_type": "stream",
     "text": [
      "<class 'pandas.core.frame.DataFrame'>\n",
      "RangeIndex: 89184 entries, 0 to 89183\n",
      "Data columns (total 17 columns):\n",
      " #   Column                   Non-Null Count  Dtype  \n",
      "---  ------                   --------------  -----  \n",
      " 0   YearsCode                87435 non-null  object \n",
      " 1   YearsCodePro             89184 non-null  int64  \n",
      " 2   WorkExp                  43579 non-null  float64\n",
      " 3   ConvertedCompYearly      89184 non-null  float64\n",
      " 4   EdLevel                  89184 non-null  object \n",
      " 5   DevType                  89184 non-null  object \n",
      " 6   OrgSize                  65043 non-null  object \n",
      " 7   TechList                 60851 non-null  object \n",
      " 8   LanguageHaveWorkedWith   87140 non-null  object \n",
      " 9   PlatformHaveWorkedWith   89184 non-null  object \n",
      " 10  WebframeHaveWorkedWith   89184 non-null  object \n",
      " 11  ToolsTechHaveWorkedWith  77884 non-null  object \n",
      " 12  Industry                 36774 non-null  object \n",
      " 13  ProfessionalTech         89184 non-null  object \n",
      " 14  Country                  87973 non-null  object \n",
      " 15  Age                      89184 non-null  object \n",
      " 16  Employment_Category      89184 non-null  object \n",
      "dtypes: float64(2), int64(1), object(14)\n",
      "memory usage: 11.6+ MB\n"
     ]
    }
   ],
   "source": [
    "features.info()"
   ]
  },
  {
   "cell_type": "code",
   "execution_count": 46,
   "id": "f459bba0",
   "metadata": {},
   "outputs": [],
   "source": [
    "tools_csv = features['ToolsTechHaveWorkedWith'].to_csv('tools.csv', index=False)"
   ]
  },
  {
   "cell_type": "code",
   "execution_count": 47,
   "id": "808cbeac",
   "metadata": {},
   "outputs": [],
   "source": [
    "languages_csv = features['LanguageHaveWorkedWith'].to_csv('languages.csv', index=False)"
   ]
  },
  {
   "cell_type": "code",
   "execution_count": 48,
   "id": "0076e986",
   "metadata": {},
   "outputs": [],
   "source": [
    "from sklearn.impute import SimpleImputer\n",
    "\n",
    "# Defining a function (mini-pipeline) to Standardize > Bucketize > Normalize columns. \n",
    "\n",
    "def process_categorical_column(df, column_name, bucket_dict):\n",
    "    \"\"\"\n",
    "    Applies bucketing and imputation to a specified column.\n",
    "    \"\"\"\n",
    "    print(f\"Processing column: {column_name}...\")\n",
    "\n",
    "    # 1. Define the inner bucketing function\n",
    "\n",
    "    def apply_priority_bucketing(raw_string):\n",
    "        if pd.isna(raw_string):\n",
    "            return np.nan\n",
    "\n",
    "        # We now work with the entire lowercase string\n",
    "        raw_string_lower = str(raw_string).lower()\n",
    "\n",
    "        # Iterate through the bucket dictionary (now a priority list)\n",
    "        for bucket, keywords in bucket_dict.items():\n",
    "            # Check if any keyword for the current priority bucket exists\n",
    "            if any(keyword in raw_string_lower for keyword in keywords):\n",
    "                return bucket # Return the first priority bucket that matches\n",
    "        \n",
    "        return 'Other' # If no keywords from any bucket are found\n",
    "\n",
    "    # 2. Apply the bucketing logic\n",
    "    new_col_name = f\"{column_name}_Bucket\"\n",
    "    features[new_col_name] = features[column_name].apply(apply_priority_bucketing)\n",
    "\n",
    "    # 3. Impute missing values with the most frequent category\n",
    "    imputer = SimpleImputer(strategy='most_frequent')\n",
    "    imputed_data = imputer.fit_transform(features[[new_col_name]])\n",
    "    features[new_col_name] = imputed_data.ravel()\n",
    "\n",
    "    print(f\"Finished processing. New column '{new_col_name}' created and imputed.\")\n",
    "    print(features[new_col_name].value_counts())\n",
    "    print(\"-\" * 50) # Separator for clarity\n",
    "    \n",
    "    return df"
   ]
  },
  {
   "cell_type": "code",
   "execution_count": 49,
   "id": "7c0d3dfb",
   "metadata": {},
   "outputs": [],
   "source": [
    "languages_buckets = {\n",
    "    'Solidity': ['solidity'],\n",
    "    'Rust': ['rust'],\n",
    "    'Go (Golang)': ['go', 'golang'],\n",
    "    'Scala': ['scala'],\n",
    "    'Ruby': ['ruby'],\n",
    "    'C++': ['c++'],\n",
    "    'Python': ['python'],\n",
    "    'Swift': ['swift'],\n",
    "    'Kotlin': ['kotlin'],\n",
    "    'SQL': ['sql'],\n",
    "    'TypeScript': ['typescript'],\n",
    "    'C#': ['c#'],\n",
    "    'Java': ['java'],\n",
    "    'R': ['r'],\n",
    "    'PHP': ['php']\n",
    "}"
   ]
  },
  {
   "cell_type": "code",
   "execution_count": 50,
   "id": "e1fcb4a1",
   "metadata": {},
   "outputs": [
    {
     "name": "stdout",
     "output_type": "stream",
     "text": [
      "Processing column: LanguageHaveWorkedWith...\n",
      "Finished processing. New column 'LanguageHaveWorkedWith_Bucket' created and imputed.\n",
      "LanguageHaveWorkedWith_Bucket\n",
      "Python         21986\n",
      "SQL            12615\n",
      "C++            12607\n",
      "Rust           11102\n",
      "Go (Golang)     8070\n",
      "TypeScript      5713\n",
      "Java            3914\n",
      "Ruby            3455\n",
      "C#              1938\n",
      "Kotlin          1862\n",
      "Scala           1522\n",
      "Swift           1302\n",
      "Solidity        1168\n",
      "Other           1041\n",
      "R                666\n",
      "PHP              223\n",
      "Name: count, dtype: int64\n",
      "--------------------------------------------------\n"
     ]
    }
   ],
   "source": [
    "features = process_categorical_column(features, 'LanguageHaveWorkedWith', languages_buckets)"
   ]
  },
  {
   "cell_type": "code",
   "execution_count": 51,
   "id": "5483b887",
   "metadata": {},
   "outputs": [],
   "source": [
    "tools_platforms_buckets = {\n",
    "    # --- Top Priority Buckets ---\n",
    "    'Kubernetes': ['kubernetes', 'k8s'],\n",
    "    'Docker': ['docker'],\n",
    "    'Cloud Platforms': ['aws', 'azure', 'gcp', 'google cloud', 'amazon web services'],\n",
    "    'Terraform': ['terraform'],\n",
    "    'Ansible': ['ansible'],\n",
    "    'Apache Spark': ['spark', 'apache spark'],\n",
    "    'Apache Kafka': ['kafka', 'apache kafka'],\n",
    "    'AI/ML Libraries': ['tensorflow', 'pytorch', 'keras', 'scikit-learn'],\n",
    "    'Snowflake': ['snowflake'],\n",
    "    'PostgreSQL': ['postgresql', 'postgres'],\n",
    "    'MongoDB': ['mongodb', 'mongo'],\n",
    "    'Redis': ['redis'],\n",
    "    'CI/CD Tools': ['jenkins', 'gitlab ci', 'ci/cd'],\n",
    "    \n",
    "    # --- ✨ NEW BUCKETS ✨ ---\n",
    "    'Game Engines': ['unity 3d', 'unreal engine'],\n",
    "    'Package Managers': ['npm', 'pip', 'maven', 'gradle', 'nuget', 'yarn', 'homebrew', 'cargo'],\n",
    "    'Build Tools': ['webpack', 'msbuild', 'vite', 'make', 'gcc'],\n",
    "    \n",
    "    # --- General Developer Tools ---\n",
    "    'Developer Tools': ['git', 'jira', 'visual studio solution'] # Added VS Solution\n",
    "}"
   ]
  },
  {
   "cell_type": "code",
   "execution_count": 52,
   "id": "720791a9",
   "metadata": {},
   "outputs": [
    {
     "name": "stdout",
     "output_type": "stream",
     "text": [
      "Processing column: ToolsTechHaveWorkedWith...\n",
      "Finished processing. New column 'ToolsTechHaveWorkedWith_Bucket' created and imputed.\n",
      "ToolsTechHaveWorkedWith_Bucket\n",
      "Docker              39380\n",
      "Package Managers    23351\n",
      "Kubernetes          15260\n",
      "Build Tools          3588\n",
      "Game Engines         3396\n",
      "Developer Tools      1380\n",
      "Ansible               964\n",
      "Other                 945\n",
      "Terraform             920\n",
      "Name: count, dtype: int64\n",
      "--------------------------------------------------\n"
     ]
    }
   ],
   "source": [
    "features = process_categorical_column(features, 'ToolsTechHaveWorkedWith', tools_platforms_buckets)"
   ]
  },
  {
   "cell_type": "code",
   "execution_count": 53,
   "id": "1152d26e",
   "metadata": {},
   "outputs": [],
   "source": [
    "# Progress: \n",
    "\n",
    "# Index(['YearsCode', 'YearsCodePro', 'WorkExp', 'ConvertedCompYearly',\n",
    "  #     'EdLevel', 'DevType', 'OrgSize', 'TechList', 'LanguageHaveWorkedWith',\n",
    "   #    'PlatformHaveWorkedWith', 'WebframeHaveWorkedWith',\n",
    "    #   'ToolsTechHaveWorkedWith', 'Industry', 'ProfessionalTech', 'Country',\n",
    "     #  'Age', 'LogSalary', 'Employment_Category'],\n",
    "      #dtype='object')\n",
    "\n",
    "# Columns converted/taken care of: 'YearsCodePro', 'ConvertedCompyYearly', 'PlatformHaveWorkedWith', 'WebframeHaveWorkedWith',\n",
    "# 'EmploymentCategory', 'WorkExp', 'EdLevel', 'DevType', 'ProfessionalTech', 'LanguageHaveWorkedWith'. \n",
    "\n",
    "# Remaining: 'Country', 'Industry', 'Age', 'OrgSize', 'Country'"
   ]
  },
  {
   "cell_type": "code",
   "execution_count": 54,
   "id": "1d78b4e8",
   "metadata": {},
   "outputs": [],
   "source": [
    "features = features.rename(columns={'ProfessionalTech': 'ProfessionalTech_Bucket', 'EdLevel':'EdLevel_Bucket', 'Employment_Category':'Employment_Category_Bucket', 'WorkExp':'WorkExp_Bucket'})"
   ]
  },
  {
   "cell_type": "code",
   "execution_count": 55,
   "id": "59c05117",
   "metadata": {},
   "outputs": [],
   "source": [
    "features = features.drop('YearsCode', axis=1)"
   ]
  },
  {
   "cell_type": "code",
   "execution_count": 56,
   "id": "11c79605",
   "metadata": {},
   "outputs": [],
   "source": [
    "features = features.drop('LanguageHaveWorkedWith', axis=1)"
   ]
  },
  {
   "cell_type": "code",
   "execution_count": 57,
   "id": "d096f310",
   "metadata": {},
   "outputs": [
    {
     "data": {
      "text/html": [
       "<div>\n",
       "<style scoped>\n",
       "    .dataframe tbody tr th:only-of-type {\n",
       "        vertical-align: middle;\n",
       "    }\n",
       "\n",
       "    .dataframe tbody tr th {\n",
       "        vertical-align: top;\n",
       "    }\n",
       "\n",
       "    .dataframe thead th {\n",
       "        text-align: right;\n",
       "    }\n",
       "</style>\n",
       "<table border=\"1\" class=\"dataframe\">\n",
       "  <thead>\n",
       "    <tr style=\"text-align: right;\">\n",
       "      <th></th>\n",
       "      <th>YearsCodePro</th>\n",
       "      <th>WorkExp_Bucket</th>\n",
       "      <th>ConvertedCompYearly</th>\n",
       "      <th>EdLevel_Bucket</th>\n",
       "      <th>DevType</th>\n",
       "      <th>OrgSize</th>\n",
       "      <th>TechList</th>\n",
       "      <th>PlatformHaveWorkedWith</th>\n",
       "      <th>Industry</th>\n",
       "      <th>ProfessionalTech_Bucket</th>\n",
       "      <th>Country</th>\n",
       "      <th>Age</th>\n",
       "      <th>Employment_Category_Bucket</th>\n",
       "      <th>LanguageHaveWorkedWith_Bucket</th>\n",
       "      <th>ToolsTechHaveWorkedWith_Bucket</th>\n",
       "    </tr>\n",
       "  </thead>\n",
       "  <tbody>\n",
       "    <tr>\n",
       "      <th>0</th>\n",
       "      <td>9</td>\n",
       "      <td>NaN</td>\n",
       "      <td>64254.0</td>\n",
       "      <td>No_Degree</td>\n",
       "      <td>Other</td>\n",
       "      <td>NaN</td>\n",
       "      <td>NaN</td>\n",
       "      <td>Amazon Web Services (AWS)</td>\n",
       "      <td>NaN</td>\n",
       "      <td>None</td>\n",
       "      <td>NaN</td>\n",
       "      <td>18-24 years old</td>\n",
       "      <td>Unknown</td>\n",
       "      <td>Python</td>\n",
       "      <td>Docker</td>\n",
       "    </tr>\n",
       "    <tr>\n",
       "      <th>1</th>\n",
       "      <td>9</td>\n",
       "      <td>10.0</td>\n",
       "      <td>285000.0</td>\n",
       "      <td>Bachelors</td>\n",
       "      <td>Leadership</td>\n",
       "      <td>2 to 9 employees</td>\n",
       "      <td>Investigate</td>\n",
       "      <td>Amazon Web Services (AWS)</td>\n",
       "      <td>Information Services, IT, Software Development...</td>\n",
       "      <td>DevOps &amp; Cloud</td>\n",
       "      <td>United States of America</td>\n",
       "      <td>25-34 years old</td>\n",
       "      <td>Full-time Employed</td>\n",
       "      <td>Python</td>\n",
       "      <td>Kubernetes</td>\n",
       "    </tr>\n",
       "    <tr>\n",
       "      <th>2</th>\n",
       "      <td>23</td>\n",
       "      <td>23.0</td>\n",
       "      <td>250000.0</td>\n",
       "      <td>Bachelors</td>\n",
       "      <td>Other</td>\n",
       "      <td>5,000 to 9,999 employees</td>\n",
       "      <td>Given a list</td>\n",
       "      <td>Amazon Web Services (AWS)</td>\n",
       "      <td>Information Services, IT, Software Development...</td>\n",
       "      <td>DevOps &amp; Cloud</td>\n",
       "      <td>United States of America</td>\n",
       "      <td>45-54 years old</td>\n",
       "      <td>Full-time Employed</td>\n",
       "      <td>Go (Golang)</td>\n",
       "      <td>Kubernetes</td>\n",
       "    </tr>\n",
       "    <tr>\n",
       "      <th>3</th>\n",
       "      <td>7</td>\n",
       "      <td>7.0</td>\n",
       "      <td>156000.0</td>\n",
       "      <td>Bachelors</td>\n",
       "      <td>Other</td>\n",
       "      <td>100 to 499 employees</td>\n",
       "      <td>Investigate</td>\n",
       "      <td>Cloudflare</td>\n",
       "      <td>NaN</td>\n",
       "      <td>Testing &amp; QA</td>\n",
       "      <td>United States of America</td>\n",
       "      <td>25-34 years old</td>\n",
       "      <td>Full-time Employed</td>\n",
       "      <td>Ruby</td>\n",
       "      <td>Package Managers</td>\n",
       "    </tr>\n",
       "    <tr>\n",
       "      <th>4</th>\n",
       "      <td>4</td>\n",
       "      <td>6.0</td>\n",
       "      <td>23456.0</td>\n",
       "      <td>Bachelors</td>\n",
       "      <td>Engineering</td>\n",
       "      <td>20 to 99 employees</td>\n",
       "      <td>Investigate</td>\n",
       "      <td>Amazon Web Services (AWS)</td>\n",
       "      <td>Other</td>\n",
       "      <td>Architecture &amp; Practices</td>\n",
       "      <td>Philippines</td>\n",
       "      <td>25-34 years old</td>\n",
       "      <td>Full-time Employed</td>\n",
       "      <td>TypeScript</td>\n",
       "      <td>Docker</td>\n",
       "    </tr>\n",
       "    <tr>\n",
       "      <th>...</th>\n",
       "      <td>...</td>\n",
       "      <td>...</td>\n",
       "      <td>...</td>\n",
       "      <td>...</td>\n",
       "      <td>...</td>\n",
       "      <td>...</td>\n",
       "      <td>...</td>\n",
       "      <td>...</td>\n",
       "      <td>...</td>\n",
       "      <td>...</td>\n",
       "      <td>...</td>\n",
       "      <td>...</td>\n",
       "      <td>...</td>\n",
       "      <td>...</td>\n",
       "      <td>...</td>\n",
       "    </tr>\n",
       "    <tr>\n",
       "      <th>89179</th>\n",
       "      <td>5</td>\n",
       "      <td>NaN</td>\n",
       "      <td>64254.0</td>\n",
       "      <td>Associates</td>\n",
       "      <td>Other</td>\n",
       "      <td>100 to 499 employees</td>\n",
       "      <td>Investigate</td>\n",
       "      <td>Digital Ocean</td>\n",
       "      <td>NaN</td>\n",
       "      <td>None</td>\n",
       "      <td>Brazil</td>\n",
       "      <td>25-34 years old</td>\n",
       "      <td>Full-time Employed</td>\n",
       "      <td>SQL</td>\n",
       "      <td>Docker</td>\n",
       "    </tr>\n",
       "    <tr>\n",
       "      <th>89180</th>\n",
       "      <td>9</td>\n",
       "      <td>NaN</td>\n",
       "      <td>64254.0</td>\n",
       "      <td>Bachelors</td>\n",
       "      <td>Other</td>\n",
       "      <td>NaN</td>\n",
       "      <td>Investigate</td>\n",
       "      <td>Amazon Web Services (AWS)</td>\n",
       "      <td>NaN</td>\n",
       "      <td>None</td>\n",
       "      <td>Romania</td>\n",
       "      <td>18-24 years old</td>\n",
       "      <td>Student</td>\n",
       "      <td>Python</td>\n",
       "      <td>Package Managers</td>\n",
       "    </tr>\n",
       "    <tr>\n",
       "      <th>89181</th>\n",
       "      <td>9</td>\n",
       "      <td>NaN</td>\n",
       "      <td>64254.0</td>\n",
       "      <td>No_Degree</td>\n",
       "      <td>Other</td>\n",
       "      <td>NaN</td>\n",
       "      <td>NaN</td>\n",
       "      <td>Amazon Web Services (AWS)</td>\n",
       "      <td>NaN</td>\n",
       "      <td>None</td>\n",
       "      <td>Israel</td>\n",
       "      <td>Prefer not to say</td>\n",
       "      <td>Other</td>\n",
       "      <td>Rust</td>\n",
       "      <td>Package Managers</td>\n",
       "    </tr>\n",
       "    <tr>\n",
       "      <th>89182</th>\n",
       "      <td>9</td>\n",
       "      <td>NaN</td>\n",
       "      <td>64254.0</td>\n",
       "      <td>No_Degree</td>\n",
       "      <td>Other</td>\n",
       "      <td>NaN</td>\n",
       "      <td>Investigate</td>\n",
       "      <td>Amazon Web Services (AWS)</td>\n",
       "      <td>NaN</td>\n",
       "      <td>None</td>\n",
       "      <td>Switzerland</td>\n",
       "      <td>Under 18 years old</td>\n",
       "      <td>Part-time Employed</td>\n",
       "      <td>Solidity</td>\n",
       "      <td>Kubernetes</td>\n",
       "    </tr>\n",
       "    <tr>\n",
       "      <th>89183</th>\n",
       "      <td>12</td>\n",
       "      <td>14.0</td>\n",
       "      <td>64254.0</td>\n",
       "      <td>Bachelors</td>\n",
       "      <td>Engineering</td>\n",
       "      <td>100 to 499 employees</td>\n",
       "      <td>NaN</td>\n",
       "      <td>Hetzner</td>\n",
       "      <td>Information Services, IT, Software Development...</td>\n",
       "      <td>DevOps &amp; Cloud</td>\n",
       "      <td>Iran, Islamic Republic of...</td>\n",
       "      <td>35-44 years old</td>\n",
       "      <td>Full-time Employed</td>\n",
       "      <td>Go (Golang)</td>\n",
       "      <td>Docker</td>\n",
       "    </tr>\n",
       "  </tbody>\n",
       "</table>\n",
       "<p>89184 rows × 15 columns</p>\n",
       "</div>"
      ],
      "text/plain": [
       "       YearsCodePro  WorkExp_Bucket  ConvertedCompYearly EdLevel_Bucket  \\\n",
       "0                 9             NaN              64254.0      No_Degree   \n",
       "1                 9            10.0             285000.0      Bachelors   \n",
       "2                23            23.0             250000.0      Bachelors   \n",
       "3                 7             7.0             156000.0      Bachelors   \n",
       "4                 4             6.0              23456.0      Bachelors   \n",
       "...             ...             ...                  ...            ...   \n",
       "89179             5             NaN              64254.0     Associates   \n",
       "89180             9             NaN              64254.0      Bachelors   \n",
       "89181             9             NaN              64254.0      No_Degree   \n",
       "89182             9             NaN              64254.0      No_Degree   \n",
       "89183            12            14.0              64254.0      Bachelors   \n",
       "\n",
       "           DevType                   OrgSize      TechList  \\\n",
       "0            Other                       NaN           NaN   \n",
       "1       Leadership          2 to 9 employees   Investigate   \n",
       "2            Other  5,000 to 9,999 employees  Given a list   \n",
       "3            Other      100 to 499 employees   Investigate   \n",
       "4      Engineering        20 to 99 employees   Investigate   \n",
       "...            ...                       ...           ...   \n",
       "89179        Other      100 to 499 employees   Investigate   \n",
       "89180        Other                       NaN   Investigate   \n",
       "89181        Other                       NaN           NaN   \n",
       "89182        Other                       NaN   Investigate   \n",
       "89183  Engineering      100 to 499 employees           NaN   \n",
       "\n",
       "          PlatformHaveWorkedWith  \\\n",
       "0      Amazon Web Services (AWS)   \n",
       "1      Amazon Web Services (AWS)   \n",
       "2      Amazon Web Services (AWS)   \n",
       "3                     Cloudflare   \n",
       "4      Amazon Web Services (AWS)   \n",
       "...                          ...   \n",
       "89179              Digital Ocean   \n",
       "89180  Amazon Web Services (AWS)   \n",
       "89181  Amazon Web Services (AWS)   \n",
       "89182  Amazon Web Services (AWS)   \n",
       "89183                    Hetzner   \n",
       "\n",
       "                                                Industry  \\\n",
       "0                                                    NaN   \n",
       "1      Information Services, IT, Software Development...   \n",
       "2      Information Services, IT, Software Development...   \n",
       "3                                                    NaN   \n",
       "4                                                  Other   \n",
       "...                                                  ...   \n",
       "89179                                                NaN   \n",
       "89180                                                NaN   \n",
       "89181                                                NaN   \n",
       "89182                                                NaN   \n",
       "89183  Information Services, IT, Software Development...   \n",
       "\n",
       "        ProfessionalTech_Bucket                       Country  \\\n",
       "0                          None                           NaN   \n",
       "1                DevOps & Cloud      United States of America   \n",
       "2                DevOps & Cloud      United States of America   \n",
       "3                  Testing & QA      United States of America   \n",
       "4      Architecture & Practices                   Philippines   \n",
       "...                         ...                           ...   \n",
       "89179                      None                        Brazil   \n",
       "89180                      None                       Romania   \n",
       "89181                      None                        Israel   \n",
       "89182                      None                   Switzerland   \n",
       "89183            DevOps & Cloud  Iran, Islamic Republic of...   \n",
       "\n",
       "                      Age Employment_Category_Bucket  \\\n",
       "0         18-24 years old                    Unknown   \n",
       "1         25-34 years old         Full-time Employed   \n",
       "2         45-54 years old         Full-time Employed   \n",
       "3         25-34 years old         Full-time Employed   \n",
       "4         25-34 years old         Full-time Employed   \n",
       "...                   ...                        ...   \n",
       "89179     25-34 years old         Full-time Employed   \n",
       "89180     18-24 years old                    Student   \n",
       "89181   Prefer not to say                      Other   \n",
       "89182  Under 18 years old         Part-time Employed   \n",
       "89183     35-44 years old         Full-time Employed   \n",
       "\n",
       "      LanguageHaveWorkedWith_Bucket ToolsTechHaveWorkedWith_Bucket  \n",
       "0                            Python                         Docker  \n",
       "1                            Python                     Kubernetes  \n",
       "2                       Go (Golang)                     Kubernetes  \n",
       "3                              Ruby               Package Managers  \n",
       "4                        TypeScript                         Docker  \n",
       "...                             ...                            ...  \n",
       "89179                           SQL                         Docker  \n",
       "89180                        Python               Package Managers  \n",
       "89181                          Rust               Package Managers  \n",
       "89182                      Solidity                     Kubernetes  \n",
       "89183                   Go (Golang)                         Docker  \n",
       "\n",
       "[89184 rows x 15 columns]"
      ]
     },
     "execution_count": 57,
     "metadata": {},
     "output_type": "execute_result"
    }
   ],
   "source": [
    "features.drop(['WebframeHaveWorkedWith', 'ToolsTechHaveWorkedWith'], axis=1)"
   ]
  },
  {
   "cell_type": "code",
   "execution_count": 58,
   "id": "910b17e9",
   "metadata": {},
   "outputs": [],
   "source": [
    "features.columns\n",
    "features.drop(['TechList', 'ToolsTechHaveWorkedWith'], axis=1, inplace=True)"
   ]
  },
  {
   "cell_type": "code",
   "execution_count": 59,
   "id": "82ce5627",
   "metadata": {},
   "outputs": [],
   "source": [
    "features = features.rename(columns={'PlatformHaveWorkedWith':'PlatformHaveWorkedWith_Bucket', 'WebframeHaveWorkedWith':'WebframeHaveWorkedWith_Bucket'})"
   ]
  },
  {
   "cell_type": "code",
   "execution_count": 60,
   "id": "350268fa",
   "metadata": {},
   "outputs": [],
   "source": [
    "features = features.rename(columns={'DevType':'DevType_Bucket', 'Industry':'Industry_Bucket', 'Age':'Age_Bucket', 'YearsCodePro':'YearsCodePro_B'})"
   ]
  },
  {
   "cell_type": "code",
   "execution_count": 61,
   "id": "b7a47010",
   "metadata": {},
   "outputs": [
    {
     "data": {
      "text/html": [
       "<div>\n",
       "<style scoped>\n",
       "    .dataframe tbody tr th:only-of-type {\n",
       "        vertical-align: middle;\n",
       "    }\n",
       "\n",
       "    .dataframe tbody tr th {\n",
       "        vertical-align: top;\n",
       "    }\n",
       "\n",
       "    .dataframe thead th {\n",
       "        text-align: right;\n",
       "    }\n",
       "</style>\n",
       "<table border=\"1\" class=\"dataframe\">\n",
       "  <thead>\n",
       "    <tr style=\"text-align: right;\">\n",
       "      <th></th>\n",
       "      <th>YearsCodePro_B</th>\n",
       "      <th>WorkExp_Bucket</th>\n",
       "      <th>ConvertedCompYearly</th>\n",
       "      <th>EdLevel_Bucket</th>\n",
       "      <th>DevType_Bucket</th>\n",
       "      <th>OrgSize</th>\n",
       "      <th>PlatformHaveWorkedWith_Bucket</th>\n",
       "      <th>WebframeHaveWorkedWith_Bucket</th>\n",
       "      <th>Industry_Bucket</th>\n",
       "      <th>ProfessionalTech_Bucket</th>\n",
       "      <th>Country</th>\n",
       "      <th>Age_Bucket</th>\n",
       "      <th>Employment_Category_Bucket</th>\n",
       "      <th>LanguageHaveWorkedWith_Bucket</th>\n",
       "      <th>ToolsTechHaveWorkedWith_Bucket</th>\n",
       "    </tr>\n",
       "  </thead>\n",
       "  <tbody>\n",
       "    <tr>\n",
       "      <th>0</th>\n",
       "      <td>9</td>\n",
       "      <td>NaN</td>\n",
       "      <td>64254.0</td>\n",
       "      <td>No_Degree</td>\n",
       "      <td>Other</td>\n",
       "      <td>NaN</td>\n",
       "      <td>Amazon Web Services (AWS)</td>\n",
       "      <td>Angular</td>\n",
       "      <td>NaN</td>\n",
       "      <td>None</td>\n",
       "      <td>NaN</td>\n",
       "      <td>18-24 years old</td>\n",
       "      <td>Unknown</td>\n",
       "      <td>Python</td>\n",
       "      <td>Docker</td>\n",
       "    </tr>\n",
       "    <tr>\n",
       "      <th>1</th>\n",
       "      <td>9</td>\n",
       "      <td>10.0</td>\n",
       "      <td>285000.0</td>\n",
       "      <td>Bachelors</td>\n",
       "      <td>Leadership</td>\n",
       "      <td>2 to 9 employees</td>\n",
       "      <td>Amazon Web Services (AWS)</td>\n",
       "      <td>Next.js</td>\n",
       "      <td>Information Services, IT, Software Development...</td>\n",
       "      <td>DevOps &amp; Cloud</td>\n",
       "      <td>United States of America</td>\n",
       "      <td>25-34 years old</td>\n",
       "      <td>Full-time Employed</td>\n",
       "      <td>Python</td>\n",
       "      <td>Kubernetes</td>\n",
       "    </tr>\n",
       "  </tbody>\n",
       "</table>\n",
       "</div>"
      ],
      "text/plain": [
       "   YearsCodePro_B  WorkExp_Bucket  ConvertedCompYearly EdLevel_Bucket  \\\n",
       "0               9             NaN              64254.0      No_Degree   \n",
       "1               9            10.0             285000.0      Bachelors   \n",
       "\n",
       "  DevType_Bucket           OrgSize PlatformHaveWorkedWith_Bucket  \\\n",
       "0          Other               NaN     Amazon Web Services (AWS)   \n",
       "1     Leadership  2 to 9 employees     Amazon Web Services (AWS)   \n",
       "\n",
       "  WebframeHaveWorkedWith_Bucket  \\\n",
       "0                       Angular   \n",
       "1                       Next.js   \n",
       "\n",
       "                                     Industry_Bucket ProfessionalTech_Bucket  \\\n",
       "0                                                NaN                    None   \n",
       "1  Information Services, IT, Software Development...          DevOps & Cloud   \n",
       "\n",
       "                    Country       Age_Bucket Employment_Category_Bucket  \\\n",
       "0                       NaN  18-24 years old                    Unknown   \n",
       "1  United States of America  25-34 years old         Full-time Employed   \n",
       "\n",
       "  LanguageHaveWorkedWith_Bucket ToolsTechHaveWorkedWith_Bucket  \n",
       "0                        Python                         Docker  \n",
       "1                        Python                     Kubernetes  "
      ]
     },
     "execution_count": 61,
     "metadata": {},
     "output_type": "execute_result"
    }
   ],
   "source": [
    "features.head(2)"
   ]
  },
  {
   "cell_type": "code",
   "execution_count": 62,
   "id": "85463f22",
   "metadata": {},
   "outputs": [
    {
     "name": "stdout",
     "output_type": "stream",
     "text": [
      "Country_Grouped\n",
      "Other                                                   36654\n",
      "United States of America                                18647\n",
      "Germany                                                  7328\n",
      "India                                                    5625\n",
      "United Kingdom of Great Britain and Northern Ireland     5552\n",
      "Canada                                                   3507\n",
      "France                                                   2933\n",
      "Poland                                                   2435\n",
      "Netherlands                                              2383\n",
      "Australia                                                2078\n",
      "Brazil                                                   2042\n",
      "Name: count, dtype: int64\n"
     ]
    }
   ],
   "source": [
    "from sklearn.impute import SimpleImputer\n",
    "\n",
    "\n",
    "top_10_countries = features['Country'].value_counts().nlargest(10).index\n",
    "\n",
    "# .where() keeps the value if the condition is true, otherwise replaces it with 'Other'\n",
    "features['Country_Grouped'] = features['Country'].where(features['Country'].isin(top_10_countries), 'Other')\n",
    "\n",
    "imputer = SimpleImputer(strategy='most_frequent')\n",
    "features['Country_Grouped'] = imputer.fit_transform(features[['Country_Grouped']]).ravel()\n",
    "\n",
    "\n",
    "print(features['Country_Grouped'].value_counts())"
   ]
  },
  {
   "cell_type": "code",
   "execution_count": 63,
   "id": "8763aa09",
   "metadata": {},
   "outputs": [
    {
     "name": "stdout",
     "output_type": "stream",
     "text": [
      "\n",
      "OrgSize distribution after filling NaNs:\n",
      "OrgSize\n",
      "Not Specified                                         24141\n",
      "20 to 99 employees                                    13380\n",
      "100 to 499 employees                                  12218\n",
      "10,000 or more employees                               7929\n",
      "1,000 to 4,999 employees                               7235\n",
      "2 to 9 employees                                       6439\n",
      "10 to 19 employees                                     5254\n",
      "500 to 999 employees                                   4472\n",
      "Just me - I am a freelancer, sole proprietor, etc.     4196\n",
      "5,000 to 9,999 employees                               2677\n",
      "I don’t know                                           1243\n",
      "Name: count, dtype: int64\n"
     ]
    },
    {
     "name": "stderr",
     "output_type": "stream",
     "text": [
      "C:\\Users\\Muhammad Hassan\\AppData\\Local\\Temp\\ipykernel_17012\\2987087267.py:2: FutureWarning: A value is trying to be set on a copy of a DataFrame or Series through chained assignment using an inplace method.\n",
      "The behavior will change in pandas 3.0. This inplace method will never work because the intermediate object on which we are setting values always behaves as a copy.\n",
      "\n",
      "For example, when doing 'df[col].method(value, inplace=True)', try using 'df.method({col: value}, inplace=True)' or df[col] = df[col].method(value) instead, to perform the operation inplace on the original object.\n",
      "\n",
      "\n",
      "  features['OrgSize'].fillna('Not Specified', inplace=True)\n"
     ]
    }
   ],
   "source": [
    "# Fill missing values with a distinct category\n",
    "features['OrgSize'].fillna('Not Specified', inplace=True)\n",
    "\n",
    "print(\"\\nOrgSize distribution after filling NaNs:\")\n",
    "print(features['OrgSize'].value_counts())"
   ]
  },
  {
   "cell_type": "code",
   "execution_count": 64,
   "id": "bd9cb581",
   "metadata": {},
   "outputs": [
    {
     "name": "stdout",
     "output_type": "stream",
     "text": [
      "\n",
      "OrgSize categories and their new encoded values:\n",
      "                                              OrgSize  OrgSize_Encoded\n",
      "18  Just me - I am a freelancer, sole proprietor, ...                0\n",
      "1                                    2 to 9 employees                1\n",
      "7                                  10 to 19 employees                2\n",
      "4                                  20 to 99 employees                3\n",
      "3                                100 to 499 employees                4\n",
      "17                               500 to 999 employees                5\n",
      "6                            1,000 to 4,999 employees                6\n",
      "2                            5,000 to 9,999 employees                7\n",
      "13                           10,000 or more employees                8\n",
      "54                                       I don’t know                9\n",
      "0                                       Not Specified               10\n"
     ]
    }
   ],
   "source": [
    "# 1. Define the explicit order of the organization sizes\n",
    "org_size_order = [\n",
    "    'Just me - I am a freelancer, sole proprietor, etc.',\n",
    "    '2 to 9 employees',\n",
    "    '10 to 19 employees',\n",
    "    '20 to 99 employees',\n",
    "    '100 to 499 employees',\n",
    "    '500 to 999 employees',\n",
    "    '1,000 to 4,999 employees',\n",
    "    '5,000 to 9,999 employees',\n",
    "    '10,000 or more employees',\n",
    "    'I don’t know',\n",
    "    'Not Specified'\n",
    "]\n",
    "\n",
    "# 2. Create the ordinally encoded column\n",
    "features['OrgSize_Encoded'] = pd.Categorical(\n",
    "    features['OrgSize'],\n",
    "    categories=org_size_order,\n",
    "    ordered=True\n",
    ").codes # .cat.codes returns the numerical representation\n",
    "\n",
    "print(\"\\nOrgSize categories and their new encoded values:\")\n",
    "print(features[['OrgSize', 'OrgSize_Encoded']].drop_duplicates().sort_values('OrgSize_Encoded'))"
   ]
  },
  {
   "cell_type": "code",
   "execution_count": 65,
   "id": "7ee46ad4",
   "metadata": {},
   "outputs": [
    {
     "name": "stdout",
     "output_type": "stream",
     "text": [
      "\n",
      "Age categories and their new encoded values:\n",
      "             Age_Bucket  Age_Encoded\n",
      "245   Prefer not to say           -1\n",
      "18   Under 18 years old            0\n",
      "0       18-24 years old            1\n",
      "1       25-34 years old            2\n",
      "5       35-44 years old            3\n",
      "2       45-54 years old            4\n",
      "36      55-64 years old            5\n",
      "103   65 years or older            6\n"
     ]
    }
   ],
   "source": [
    "# 1. Impute missing values first\n",
    "imputer = SimpleImputer(strategy='most_frequent')\n",
    "features['Age_Bucket'] = imputer.fit_transform(features[['Age_Bucket']]).ravel()\n",
    "\n",
    "# 2. Define the explicit order of the age groups\n",
    "age_order = [\n",
    "    'Under 18 years old',\n",
    "    '18-24 years old',\n",
    "    '25-34 years old',\n",
    "    '35-44 years old',\n",
    "    '45-54 years old',\n",
    "    '55-64 years old',\n",
    "    '65 years or older'\n",
    "]\n",
    "\n",
    "# 3. Create the ordinally encoded column using pandas' Categorical type\n",
    "features['Age_Encoded'] = pd.Categorical(\n",
    "    features['Age_Bucket'],\n",
    "    categories=age_order,\n",
    "    ordered=True\n",
    ").codes # .cat.codes returns the numerical representation\n",
    "\n",
    "print(\"\\nAge categories and their new encoded values:\")\n",
    "print(features[['Age_Bucket', 'Age_Encoded']].drop_duplicates().sort_values('Age_Encoded'))"
   ]
  },
  {
   "cell_type": "code",
   "execution_count": 66,
   "id": "b5a920c6",
   "metadata": {},
   "outputs": [
    {
     "data": {
      "text/html": [
       "<div>\n",
       "<style scoped>\n",
       "    .dataframe tbody tr th:only-of-type {\n",
       "        vertical-align: middle;\n",
       "    }\n",
       "\n",
       "    .dataframe tbody tr th {\n",
       "        vertical-align: top;\n",
       "    }\n",
       "\n",
       "    .dataframe thead th {\n",
       "        text-align: right;\n",
       "    }\n",
       "</style>\n",
       "<table border=\"1\" class=\"dataframe\">\n",
       "  <thead>\n",
       "    <tr style=\"text-align: right;\">\n",
       "      <th></th>\n",
       "      <th>YearsCodePro_B</th>\n",
       "      <th>WorkExp_Bucket</th>\n",
       "      <th>ConvertedCompYearly</th>\n",
       "      <th>EdLevel_Bucket</th>\n",
       "      <th>DevType_Bucket</th>\n",
       "      <th>OrgSize</th>\n",
       "      <th>PlatformHaveWorkedWith_Bucket</th>\n",
       "      <th>WebframeHaveWorkedWith_Bucket</th>\n",
       "      <th>Industry_Bucket</th>\n",
       "      <th>ProfessionalTech_Bucket</th>\n",
       "      <th>Country</th>\n",
       "      <th>Age_Bucket</th>\n",
       "      <th>Employment_Category_Bucket</th>\n",
       "      <th>LanguageHaveWorkedWith_Bucket</th>\n",
       "      <th>ToolsTechHaveWorkedWith_Bucket</th>\n",
       "      <th>Country_Grouped</th>\n",
       "      <th>OrgSize_Encoded</th>\n",
       "      <th>Age_Encoded</th>\n",
       "    </tr>\n",
       "  </thead>\n",
       "  <tbody>\n",
       "    <tr>\n",
       "      <th>0</th>\n",
       "      <td>9</td>\n",
       "      <td>NaN</td>\n",
       "      <td>64254.0</td>\n",
       "      <td>No_Degree</td>\n",
       "      <td>Other</td>\n",
       "      <td>Not Specified</td>\n",
       "      <td>Amazon Web Services (AWS)</td>\n",
       "      <td>Angular</td>\n",
       "      <td>NaN</td>\n",
       "      <td>None</td>\n",
       "      <td>NaN</td>\n",
       "      <td>18-24 years old</td>\n",
       "      <td>Unknown</td>\n",
       "      <td>Python</td>\n",
       "      <td>Docker</td>\n",
       "      <td>Other</td>\n",
       "      <td>10</td>\n",
       "      <td>1</td>\n",
       "    </tr>\n",
       "    <tr>\n",
       "      <th>1</th>\n",
       "      <td>9</td>\n",
       "      <td>10.0</td>\n",
       "      <td>285000.0</td>\n",
       "      <td>Bachelors</td>\n",
       "      <td>Leadership</td>\n",
       "      <td>2 to 9 employees</td>\n",
       "      <td>Amazon Web Services (AWS)</td>\n",
       "      <td>Next.js</td>\n",
       "      <td>Information Services, IT, Software Development...</td>\n",
       "      <td>DevOps &amp; Cloud</td>\n",
       "      <td>United States of America</td>\n",
       "      <td>25-34 years old</td>\n",
       "      <td>Full-time Employed</td>\n",
       "      <td>Python</td>\n",
       "      <td>Kubernetes</td>\n",
       "      <td>United States of America</td>\n",
       "      <td>1</td>\n",
       "      <td>2</td>\n",
       "    </tr>\n",
       "  </tbody>\n",
       "</table>\n",
       "</div>"
      ],
      "text/plain": [
       "   YearsCodePro_B  WorkExp_Bucket  ConvertedCompYearly EdLevel_Bucket  \\\n",
       "0               9             NaN              64254.0      No_Degree   \n",
       "1               9            10.0             285000.0      Bachelors   \n",
       "\n",
       "  DevType_Bucket           OrgSize PlatformHaveWorkedWith_Bucket  \\\n",
       "0          Other     Not Specified     Amazon Web Services (AWS)   \n",
       "1     Leadership  2 to 9 employees     Amazon Web Services (AWS)   \n",
       "\n",
       "  WebframeHaveWorkedWith_Bucket  \\\n",
       "0                       Angular   \n",
       "1                       Next.js   \n",
       "\n",
       "                                     Industry_Bucket ProfessionalTech_Bucket  \\\n",
       "0                                                NaN                    None   \n",
       "1  Information Services, IT, Software Development...          DevOps & Cloud   \n",
       "\n",
       "                    Country       Age_Bucket Employment_Category_Bucket  \\\n",
       "0                       NaN  18-24 years old                    Unknown   \n",
       "1  United States of America  25-34 years old         Full-time Employed   \n",
       "\n",
       "  LanguageHaveWorkedWith_Bucket ToolsTechHaveWorkedWith_Bucket  \\\n",
       "0                        Python                         Docker   \n",
       "1                        Python                     Kubernetes   \n",
       "\n",
       "            Country_Grouped  OrgSize_Encoded  Age_Encoded  \n",
       "0                     Other               10            1  \n",
       "1  United States of America                1            2  "
      ]
     },
     "execution_count": 66,
     "metadata": {},
     "output_type": "execute_result"
    }
   ],
   "source": [
    "features.head(2)"
   ]
  },
  {
   "cell_type": "code",
   "execution_count": 67,
   "id": "f7d1091d",
   "metadata": {},
   "outputs": [],
   "source": [
    "features.drop('WorkExp_Bucket', axis=1, inplace=True)"
   ]
  },
  {
   "cell_type": "code",
   "execution_count": 68,
   "id": "80255727",
   "metadata": {},
   "outputs": [],
   "source": [
    "features.drop('Industry_Bucket', axis=1, inplace=True)"
   ]
  },
  {
   "cell_type": "code",
   "execution_count": 69,
   "id": "c1a3aaee",
   "metadata": {},
   "outputs": [],
   "source": [
    "features.drop('Country', axis=1, inplace=True)"
   ]
  },
  {
   "cell_type": "code",
   "execution_count": 70,
   "id": "2b827686",
   "metadata": {},
   "outputs": [],
   "source": [
    "features.drop(['Age_Bucket', 'OrgSize'], axis=1, inplace=True)"
   ]
  },
  {
   "cell_type": "code",
   "execution_count": 71,
   "id": "87c100f1",
   "metadata": {},
   "outputs": [],
   "source": [
    "salary = features.copy()"
   ]
  },
  {
   "cell_type": "code",
   "execution_count": 72,
   "id": "9f178a77",
   "metadata": {},
   "outputs": [
    {
     "name": "stdout",
     "output_type": "stream",
     "text": [
      "<class 'pandas.core.frame.DataFrame'>\n",
      "RangeIndex: 89184 entries, 0 to 89183\n",
      "Data columns (total 13 columns):\n",
      " #   Column                          Non-Null Count  Dtype  \n",
      "---  ------                          --------------  -----  \n",
      " 0   YearsCodePro_B                  89184 non-null  int64  \n",
      " 1   ConvertedCompYearly             89184 non-null  float64\n",
      " 2   EdLevel_Bucket                  89184 non-null  object \n",
      " 3   DevType_Bucket                  89184 non-null  object \n",
      " 4   PlatformHaveWorkedWith_Bucket   89184 non-null  object \n",
      " 5   WebframeHaveWorkedWith_Bucket   89184 non-null  object \n",
      " 6   ProfessionalTech_Bucket         89184 non-null  object \n",
      " 7   Employment_Category_Bucket      89184 non-null  object \n",
      " 8   LanguageHaveWorkedWith_Bucket   89184 non-null  object \n",
      " 9   ToolsTechHaveWorkedWith_Bucket  89184 non-null  object \n",
      " 10  Country_Grouped                 89184 non-null  object \n",
      " 11  OrgSize_Encoded                 89184 non-null  int8   \n",
      " 12  Age_Encoded                     89184 non-null  int8   \n",
      "dtypes: float64(1), int64(1), int8(2), object(9)\n",
      "memory usage: 7.7+ MB\n"
     ]
    }
   ],
   "source": [
    "salary.info()"
   ]
  },
  {
   "cell_type": "markdown",
   "id": "c473d0f2",
   "metadata": {},
   "source": [
    "---\n",
    "\n",
    "\n",
    "#### ___FIT ON TRAIN, TRANSFORM ON TEST!___"
   ]
  },
  {
   "cell_type": "code",
   "execution_count": 73,
   "id": "c63d2314",
   "metadata": {},
   "outputs": [],
   "source": [
    "salary['salary_cat'] = pd.cut(salary['ConvertedCompYearly'],\n",
    "                              bins=[0., 30000., 60000., 90000., 120000., np.inf],\n",
    "                              labels=[1, 2, 3, 4, 5])"
   ]
  },
  {
   "cell_type": "code",
   "execution_count": 74,
   "id": "37ccf0f9",
   "metadata": {},
   "outputs": [
    {
     "data": {
      "image/png": "[encoded data removed]",
      "text/plain": [
       "<Figure size 640x480 with 1 Axes>"
      ]
     },
     "metadata": {},
     "output_type": "display_data"
    }
   ],
   "source": [
    "salary[\"salary_cat\"].value_counts().sort_index().plot.bar(rot=0, grid=True)\n",
    "plt.xlabel(\"Salary Category\")\n",
    "plt.ylabel(\"Salary\")\n",
    "plt.show()"
   ]
  },
  {
   "cell_type": "code",
   "execution_count": 75,
   "id": "274ec09d",
   "metadata": {},
   "outputs": [],
   "source": [
    "X = salary.drop('ConvertedCompYearly', axis=1)\n",
    "y = salary['ConvertedCompYearly']"
   ]
  },
  {
   "cell_type": "code",
   "execution_count": 76,
   "id": "0ac78404",
   "metadata": {},
   "outputs": [],
   "source": [
    "from sklearn.model_selection import train_test_split\n",
    "\n",
    "X_train, X_test, y_train, y_test = train_test_split(X, y, test_size=0.2, random_state=42)"
   ]
  },
  {
   "cell_type": "markdown",
   "id": "f69ed918",
   "metadata": {},
   "source": [
    "---"
   ]
  },
  {
   "cell_type": "markdown",
   "id": "badf50ae",
   "metadata": {},
   "source": [
    "#### ___MAIN PIPELINE & CUSTOM TARGET ENCODER___"
   ]
  },
  {
   "cell_type": "code",
   "execution_count": 77,
   "id": "f1c26cea",
   "metadata": {},
   "outputs": [],
   "source": [
    "# Custom Transformer for Highly Sensitive Traget Encoding \n",
    "\n",
    "from sklearn.base import BaseEstimator, TransformerMixin\n",
    "\n",
    "class CustomTargetEncoder(BaseEstimator, TransformerMixin):\n",
    "    \n",
    "    def __init__(self):\n",
    "        pass\n",
    "\n",
    "    def fit(self, X, y=None):\n",
    "\n",
    "        if y is None:\n",
    "            raise ValueError(\"Target encoder requires y during fit\")\n",
    "\n",
    "        if not isinstance(y, pd.Series):\n",
    "            y = pd.Series(y, name=\"target\")\n",
    "        else:   \n",
    "            y = y.copy()\n",
    "\n",
    "        self.global_mean_ = y.mean()\n",
    "        \n",
    "        self.encodings_ = {}\n",
    "        \n",
    "        for col in X.columns:\n",
    "            salary = pd.concat([X[[col]], y], axis=1)\n",
    "            self.encodings_[col] = salary.groupby(col)[y.name].mean()\n",
    "            \n",
    "        return self\n",
    "\n",
    "    def transform(self, X):\n",
    "        \n",
    "        X_new = X.copy()\n",
    "        for col in X.columns:\n",
    "            X_new[col] = X_new[col].map(self.encodings_[col]).fillna(self.global_mean_)\n",
    "        return X_new\n",
    "    \n",
    "    def get_feature_names_out(self, input_features=None):\n",
    "\n",
    "        if input_features is None:\n",
    "            return self.feature_names_in_\n",
    "        return input_features\n"
   ]
  },
  {
   "cell_type": "code",
   "execution_count": 78,
   "id": "29b081ad",
   "metadata": {},
   "outputs": [],
   "source": [
    "# MAIN PIPELINE with ColumnTransformer to perform Ordinal & OneHot Encoding. For transforming target-sensitive variables, the Custom TargetEncoder will be used. \n",
    "\n",
    "from sklearn.compose import ColumnTransformer\n",
    "from sklearn.pipeline import Pipeline, make_pipeline\n",
    "from sklearn.preprocessing import StandardScaler, OneHotEncoder, OrdinalEncoder\n",
    "\n",
    "ordinal_cols = ['EdLevel_Bucket']\n",
    "\n",
    "onehot_cols = ['Country_Grouped', 'Employment_Category_Bucket']\n",
    "\n",
    "target_cols = ['DevType_Bucket', 'PlatformHaveWorkedWith_Bucket', 'WebframeHaveWorkedWith_Bucket', 'ProfessionalTech_Bucket', 'LanguageHaveWorkedWith_Bucket', 'ToolsTechHaveWorkedWith_Bucket']\n",
    "\n",
    "numerical_cols = ['YearsCodePro_B', 'OrgSize_Encoded', 'Age_Encoded']\n",
    "\n",
    "edlevel_order = ['Masters', 'Bachelors', 'No_Degree', 'Associates']\n",
    "\n",
    "all_ordinal_orders = [edlevel_order]\n",
    "\n",
    "preprocessor = ColumnTransformer(\n",
    "    transformers=[\n",
    "        ('num', StandardScaler(), numerical_cols),\n",
    "        ('ordinal', OrdinalEncoder(categories=all_ordinal_orders), ordinal_cols),\n",
    "        ('onehot', OneHotEncoder(handle_unknown='ignore', sparse_output=True), onehot_cols),\n",
    "        ('target', CustomTargetEncoder(), target_cols)\n",
    "    ],\n",
    "    remainder='passthrough'\n",
    ")\n",
    "\n",
    "robust_pipeline = Pipeline(steps=[\n",
    "    ('preprocessor', preprocessor)\n",
    "])"
   ]
  },
  {
   "cell_type": "markdown",
   "id": "f4306f25",
   "metadata": {},
   "source": [
    "---"
   ]
  },
  {
   "cell_type": "code",
   "execution_count": 79,
   "id": "fc418af9",
   "metadata": {},
   "outputs": [],
   "source": [
    "robust_pipeline.fit(X_train, y_train)\n",
    "X_train_processed = robust_pipeline.transform(X_train)\n",
    "X_test_processed = robust_pipeline.transform(X_test)"
   ]
  },
  {
   "cell_type": "code",
   "execution_count": 80,
   "id": "71703975",
   "metadata": {},
   "outputs": [
    {
     "name": "stdout",
     "output_type": "stream",
     "text": [
      "RMSE: $432,861.96\n"
     ]
    }
   ],
   "source": [
    "import numpy as np\n",
    "from sklearn.linear_model import LinearRegression\n",
    "from sklearn.metrics import mean_squared_error\n",
    "\n",
    "# Transform target to log scale\n",
    "y_train_scaled = np.log1p(y_train)  # log1p = log(1 + x), handles zeros safely\n",
    "y_test_scaled = np.log1p(y_test)\n",
    "\n",
    "# Train model on log-scaled target\n",
    "model = LinearRegression()\n",
    "model.fit(X_train_processed, y_train_scaled)\n",
    "\n",
    "# Make predictions (these will be in log scale)\n",
    "y_pred_scaled = model.predict(X_test_processed)\n",
    "\n",
    "# Transform predictions back to original salary scale\n",
    "y_pred = np.expm1(y_pred_scaled)  # expm1 = exp(x) - 1, inverse of log1p\n",
    "\n",
    "# Calculate RMSE on original scale\n",
    "rmse = np.sqrt(mean_squared_error(y_test, y_pred))\n",
    "print(f\"RMSE: ${rmse:,.2f}\")"
   ]
  },
  {
   "cell_type": "code",
   "execution_count": 81,
   "id": "4177ebb0",
   "metadata": {},
   "outputs": [
    {
     "name": "stdout",
     "output_type": "stream",
     "text": [
      "Actual salary range: $1 to $57,513,831\n",
      "Predicted salary range: $12,908 to $286,949\n",
      "Mean actual salary: $84,146\n",
      "Mean predicted salary: $80,221\n"
     ]
    }
   ],
   "source": [
    "# Check your data ranges\n",
    "print(f\"Actual salary range: ${y_test.min():,.0f} to ${y_test.max():,.0f}\")\n",
    "print(f\"Predicted salary range: ${y_pred.min():,.0f} to ${y_pred.max():,.0f}\")\n",
    "print(f\"Mean actual salary: ${y_test.mean():,.0f}\")\n",
    "print(f\"Mean predicted salary: ${y_pred.mean():,.0f}\")"
   ]
  },
  {
   "cell_type": "code",
   "execution_count": 82,
   "id": "93f494f2",
   "metadata": {},
   "outputs": [
    {
     "data": {
      "image/png": "[encoded data removed]",
      "text/plain": [
       "<Figure size 1500x600 with 2 Axes>"
      ]
     },
     "metadata": {},
     "output_type": "display_data"
    },
    {
     "name": "stdout",
     "output_type": "stream",
     "text": [
      "Top 10 highest salaries:\n",
      "53268    74351432.0\n",
      "77848    73607918.0\n",
      "66223    72714292.0\n",
      "28121    57513831.0\n",
      "19679    36573181.0\n",
      "55102    17612921.0\n",
      "80586    11000000.0\n",
      "83679    10319366.0\n",
      "47797     9915585.0\n",
      "88347     9203683.0\n",
      "Name: ConvertedCompYearly, dtype: float64\n"
     ]
    }
   ],
   "source": [
    "import matplotlib.pyplot as plt\n",
    "import seaborn as sns\n",
    "\n",
    "# Create subplots to see both scales\n",
    "fig, axes = plt.subplots(1, 2, figsize=(15, 6))\n",
    "\n",
    "# Plot 1: Full distribution (will show the extreme outliers)\n",
    "axes[0].hist(y, bins=50, alpha=0.7, color='skyblue', edgecolor='black')\n",
    "axes[0].set_title('Full Salary Distribution (with outliers)')\n",
    "axes[0].set_xlabel('Salary ($)')\n",
    "axes[0].set_ylabel('Frequency')\n",
    "axes[0].ticklabel_format(style='plain', axis='x')\n",
    "\n",
    "# Plot 2: Zoomed in (cap at reasonable salary range)\n",
    "reasonable_salaries = y[y <= 500000]\n",
    "axes[1].hist(reasonable_salaries, bins=50, alpha=0.7, color='lightgreen', edgecolor='black')\n",
    "axes[1].set_title('Salary Distribution (capped at $500k)')\n",
    "axes[1].set_xlabel('Salary ($)')\n",
    "axes[1].set_ylabel('Frequency')\n",
    "\n",
    "plt.tight_layout()\n",
    "plt.show()\n",
    "\n",
    "# Show the extreme outliers\n",
    "print(\"Top 10 highest salaries:\")\n",
    "print(y.sort_values(ascending=False).head(10))"
   ]
  },
  {
   "cell_type": "markdown",
   "id": "30eaf615",
   "metadata": {},
   "source": [
    "#### ___DATA QUALITY ISSUE! ^___"
   ]
  },
  {
   "cell_type": "code",
   "execution_count": 83,
   "id": "8a03a8de",
   "metadata": {},
   "outputs": [],
   "source": [
    "# Redoing the split after filtering the extreme values and capping max salary at $500k. "
   ]
  },
  {
   "cell_type": "code",
   "execution_count": null,
   "id": "f0a8dc03",
   "metadata": {},
   "outputs": [],
   "source": [
    "df_clean = salary[(salary['ConvertedCompYearly'] >= 100000) & (salary['ConvertedCompYearly'] <= 500000)]\n",
    "\n",
    "X = df_clean.drop('ConvertedCompYearly', axis=1)\n",
    "y= df_clean['ConvertedCompYearly']\n",
    "\n",
    "X_train, X_test, y_train, y_test = train_test_split(X, y, test_size=0.2, random_state=42)"
   ]
  },
  {
   "cell_type": "code",
   "execution_count": 85,
   "id": "14ec3ac8",
   "metadata": {},
   "outputs": [],
   "source": [
    "robust_pipeline.fit(X_train, y_train)\n",
    "X_train_processed = robust_pipeline.transform(X_train)\n",
    "X_test_processed = robust_pipeline.transform(X_test)"
   ]
  },
  {
   "cell_type": "code",
   "execution_count": 86,
   "id": "e1af12f9",
   "metadata": {},
   "outputs": [
    {
     "name": "stdout",
     "output_type": "stream",
     "text": [
      "RMSE: $54,857.90\n"
     ]
    }
   ],
   "source": [
    "from sklearn.linear_model import LinearRegression\n",
    "from sklearn.metrics import mean_squared_error\n",
    "\n",
    "y_train_scaled = np.log1p(y_train)\n",
    "model = LinearRegression()\n",
    "model.fit(X_train_processed, y_train_scaled)\n",
    "\n",
    "y_pred_scaled = model.predict(X_test_processed)\n",
    "y_pred = np.expm1(y_pred_scaled)\n",
    "rmse = np.sqrt(mean_squared_error(y_test, y_pred))\n",
    "print(f\"RMSE: ${rmse:,.2f}\")"
   ]
  },
  {
   "cell_type": "markdown",
   "id": "f554b8ee",
   "metadata": {},
   "source": [
    "#### __Huge improvement! RMSE improved from  $432k to $54k! 87%!__ \n",
    "\n",
    "The RMSE is still $55,000 points away.\n",
    "\n",
    "Running Decision Tree & Random Forests now to improve accuracy."
   ]
  },
  {
   "cell_type": "code",
   "execution_count": 87,
   "id": "67e1ae72",
   "metadata": {},
   "outputs": [
    {
     "name": "stdout",
     "output_type": "stream",
     "text": [
      "Random Forest RMSE: $54,477.69\n",
      "Linear Regression RMSE: $54,857.90\n"
     ]
    }
   ],
   "source": [
    "from sklearn.ensemble import RandomForestRegressor\n",
    "\n",
    "rf = RandomForestRegressor()\n",
    "rf.fit(X_train_processed, y_train_scaled)\n",
    "\n",
    "y_pred_rf_scaled = rf.predict(X_test_processed)\n",
    "y_pred_rf = np.expm1(y_pred_rf_scaled)\n",
    "rmse_rf = np.sqrt(mean_squared_error(y_test, y_pred_rf))\n",
    "\n",
    "print(f\"Random Forest RMSE: ${rmse_rf:,.2f}\")\n",
    "print(f\"Linear Regression RMSE: ${rmse:,.2f}\")"
   ]
  },
  {
   "cell_type": "code",
   "execution_count": 88,
   "id": "3ba635ae",
   "metadata": {},
   "outputs": [
    {
     "name": "stdout",
     "output_type": "stream",
     "text": [
      "Tuned Random Forest RMSE: $54,259.29\n"
     ]
    }
   ],
   "source": [
    "# Trying with more trees and different depth\n",
    "\n",
    "rf_tuned = RandomForestRegressor(n_estimators=200, max_depth=20, random_state=42)\n",
    "rf_tuned.fit(X_train_processed, y_train_scaled)\n",
    "y_pred_tuned = np.expm1(rf_tuned.predict(X_test_processed))\n",
    "rmse_tuned = np.sqrt(mean_squared_error(y_test, y_pred_tuned))\n",
    "print(f\"Tuned Random Forest RMSE: ${rmse_tuned:,.2f}\")"
   ]
  },
  {
   "cell_type": "markdown",
   "id": "bea0ec3c",
   "metadata": {},
   "source": [
    "### ___THE CELL BELOW WILL TAKE 100% CPU USAGE___"
   ]
  },
  {
   "cell_type": "code",
   "execution_count": 89,
   "id": "5a2a5485",
   "metadata": {},
   "outputs": [
    {
     "ename": "SyntaxError",
     "evalue": "invalid syntax (2367989624.py, line 2)",
     "output_type": "error",
     "traceback": [
      "  \u001b[36mCell\u001b[39m\u001b[36m \u001b[39m\u001b[32mIn[89]\u001b[39m\u001b[32m, line 2\u001b[39m\n\u001b[31m    \u001b[39m\u001b[31mrf_tuned = RandomForestRegressor DONT RUN THIS CODE(n_estimators=200, max_depth=20, random_state=42)\u001b[39m\n                                     ^\n\u001b[31mSyntaxError\u001b[39m\u001b[31m:\u001b[39m invalid syntax\n"
     ]
    }
   ],
   "source": [
    "# Try with more trees first\n",
    "rf_tuned = RandomForestRegressor DONT RUN THIS CODE(n_estimators=200, max_depth=20, random_state=42)\n",
    "rf_tuned.fit(X_train_processed, y_train_scaled)\n",
    "y_pred_tuned = np.expm1(rf_tuned.predict(X_test_processed))\n",
    "rmse_tuned = np.sqrt(mean_squared_error(y_test, y_pred_tuned))\n",
    "print(f\"Tuned Random Forest RMSE: ${rmse_tuned:,.2f}\")\n",
    "\n",
    "# GridSearchCV\n",
    "from sklearn.model_selection import GridSearchCVsd\n",
    "\n",
    "param_grid = {\n",
    "    'n_estimators': [100, 200, 300],\n",
    "    'max_depth': [10, 20, 30, None],\n",
    "    'min_samples_split': [2, 5, 10],\n",
    "    'min_samples_leaf': [1, 2, 4]\n",
    "}\n",
    "\n",
    "grid_search = GridSearchCV(\n",
    "    RandomForestRegressor(random_state=42), \n",
    "    param_grid, \n",
    "    cv=3, \n",
    "    scoring='neg_mean_squared_error',\n",
    "    n_jobs=-1  # Use all cores\n",
    ")\n",
    "\n",
    "print(\"Running GridSearchCV...\")\n",
    "grid_search.fit(X_train_processed, y_train_scaled)\n",
    "\n",
    "# Best model results\n",
    "best_rf = grid_search.best_estimator_\n",
    "y_pred_best = np.expm1(best_rf.predict(X_test_processed))\n",
    "rmse_best = np.sqrt(mean_squared_error(y_test, y_pred_best))\n",
    "\n",
    "print(f\"Best Random Forest RMSE: ${rmse_best:,.2f}\")\n",
    "print(f\"Best parameters: {grid_search.best_params_}\")"
   ]
  },
  {
   "cell_type": "markdown",
   "id": "75b1e9b1",
   "metadata": {},
   "source": [
    "#### ___Running the models again on Stratified Split___"
   ]
  },
  {
   "cell_type": "code",
   "execution_count": 90,
   "id": "1ee9f7eb",
   "metadata": {},
   "outputs": [],
   "source": [
    "y_cleaned = df_clean['ConvertedCompYearly']"
   ]
  },
  {
   "cell_type": "code",
   "execution_count": 91,
   "id": "22727b3f",
   "metadata": {},
   "outputs": [
    {
     "name": "stdout",
     "output_type": "stream",
     "text": [
      "Original distribution:\n",
      "ConvertedCompYearly\n",
      "Low         0.725207\n",
      "Low-Mid     0.197193\n",
      "Mid         0.045455\n",
      "Mid-High    0.021087\n",
      "High        0.011060\n",
      "Name: proportion, dtype: float64\n",
      "\n",
      "Train distribution:\n",
      "ConvertedCompYearly\n",
      "Low         0.725235\n",
      "Low-Mid     0.197204\n",
      "Mid         0.045427\n",
      "Mid-High    0.021042\n",
      "High        0.011091\n",
      "Name: proportion, dtype: float64\n",
      "\n",
      "Test distribution:\n",
      "ConvertedCompYearly\n",
      "Low         0.725091\n",
      "Low-Mid     0.197145\n",
      "Mid         0.045565\n",
      "Mid-High    0.021264\n",
      "High        0.010936\n",
      "Name: proportion, dtype: float64\n"
     ]
    }
   ],
   "source": [
    "from sklearn.model_selection import StratifiedShuffleSplit\n",
    "import pandas as pd\n",
    "\n",
    "# Create salary bins for stratification\n",
    "def create_salary_bins(y, n_bins=5):\n",
    "    \"\"\"Create salary bins for stratified splitting\"\"\"\n",
    "    return pd.cut(y, bins=n_bins, labels=['Low', 'Low-Mid', 'Mid', 'Mid-High', 'High'])\n",
    "\n",
    "# Apply stratified split\n",
    "salary_bins = create_salary_bins(y_cleaned)\n",
    "stratified_split = StratifiedShuffleSplit(n_splits=1, test_size=0.2, random_state=42)\n",
    "\n",
    "for train_idx, test_idx in stratified_split.split(X, salary_bins):\n",
    "    X_train_strat, X_test_strat = X.iloc[train_idx], X.iloc[test_idx]\n",
    "    y_train_strat, y_test_strat = y_cleaned.iloc[train_idx], y_cleaned.iloc[test_idx]\n",
    "\n",
    "# Verify stratification worked\n",
    "print(\"Original distribution:\")\n",
    "print(salary_bins.value_counts(normalize=True))\n",
    "print(\"\\nTrain distribution:\")\n",
    "print(create_salary_bins(y_train_strat).value_counts(normalize=True))\n",
    "print(\"\\nTest distribution:\")\n",
    "print(create_salary_bins(y_test_strat).value_counts(normalize=True))"
   ]
  },
  {
   "cell_type": "code",
   "execution_count": 92,
   "id": "714e59a3",
   "metadata": {},
   "outputs": [
    {
     "name": "stderr",
     "output_type": "stream",
     "text": [
      "C:\\Users\\Muhammad Hassan\\AppData\\Local\\Temp\\ipykernel_17012\\2094877144.py:1: FutureWarning: Series.ravel is deprecated. The underlying array is already 1D, so ravel is not necessary.  Use `to_numpy()` for conversion to a numpy array instead.\n",
      "  y_train_strat_log = np.log(y_train_strat).ravel()\n"
     ]
    }
   ],
   "source": [
    "y_train_strat_log = np.log(y_train_strat).ravel()\n",
    "y_test_strat_log = np.log(y_test_strat)"
   ]
  },
  {
   "cell_type": "code",
   "execution_count": 93,
   "id": "caef51a6",
   "metadata": {},
   "outputs": [],
   "source": [
    "robust_pipeline.fit(X_train_strat, y_train_strat_log)\n",
    "X_train_strat_processed = robust_pipeline.transform(X_train_strat)\n",
    "X_test_strat_processed = robust_pipeline.transform(X_test_strat)"
   ]
  },
  {
   "cell_type": "code",
   "execution_count": null,
   "id": "4c66ec1d",
   "metadata": {},
   "outputs": [
    {
     "name": "stdout",
     "output_type": "stream",
     "text": [
      "RMSE: $54,857.90\n"
     ]
    }
   ],
   "source": [
    "from sklearn.linear_model import LinearRegression\n",
    "\n",
    "lr = LinearRegression()\n",
    "\n",
    "lr.fit(X_train_strat_processed, y_train_strat_log)\n",
    "\n",
    "y_pred_scaled = model.predict(X_test_processed)\n",
    "y_pred = np.expm1(y_pred_scaled)\n",
    "rmse = np.sqrt(mean_squared_error(y_test, y_pred))\n",
    "print(f\"RMSE: ${rmse:,.2f}\")"
   ]
  },
  {
   "cell_type": "code",
   "execution_count": null,
   "id": "0e7851cc",
   "metadata": {},
   "outputs": [
    {
     "name": "stdout",
     "output_type": "stream",
     "text": [
      "Random Forest RMSE: $0.24\n",
      "Linear Regression RMSE: $54,857.90\n"
     ]
    }
   ],
   "source": [
    "from sklearn.ensemble import RandomForestRegressor\n",
    "\n",
    "rf = RandomForestRegressor()\n",
    "rf.fit(X_train_strat_processed, y_train_strat_log)\n",
    "\n",
    "y_strat_pred_rf = rf.predict(X_test_strat_processed)\n",
    "y_strat_pred = np.expm1(y_strat_pred_rf)\n",
    "rmse_strat_rf = np.sqrt(mean_squared_error(y_test_strat_log, y_strat_pred_rf))\n",
    "\n",
    "print(f\"Random Forest RMSE: ${rmse_strat_rf:,.2f}\")\n",
    "print(f\"Linear Regression RMSE: ${rmse:,.2f}\")"
   ]
  },
  {
   "cell_type": "code",
   "execution_count": null,
   "id": "ea987602",
   "metadata": {},
   "outputs": [
    {
     "name": "stdout",
     "output_type": "stream",
     "text": [
      "Random Forest RMSE: $0.24\n",
      "Linear Regression RMSE: $54,857.90\n"
     ]
    }
   ],
   "source": [
    "# Running with feature randomness parameters\n",
    "\n",
    "rf = RandomForestRegressor(max_features='sqrt', random_state=42)\n",
    "rf.fit(X_train_strat_processed, y_train_strat_log)\n",
    "\n",
    "y_strat_pred_rf = rf.predict(X_test_strat_processed)\n",
    "y_strat_pred = np.expm1(y_strat_pred_rf)\n",
    "rmse_strat_rf = np.sqrt(mean_squared_error(y_test_strat_log, y_strat_pred_rf))\n",
    "\n",
    "print(f\"Random Forest RMSE: ${rmse_strat_rf:,.2f}\")\n",
    "print(f\"Linear Regression RMSE: ${rmse:,.2f}\")"
   ]
  },
  {
   "cell_type": "code",
   "execution_count": null,
   "id": "985af85e",
   "metadata": {},
   "outputs": [
    {
     "name": "stdout",
     "output_type": "stream",
     "text": [
      "Random Forest RMSE: $0.24\n",
      "Linear Regression RMSE: $54,857.90\n"
     ]
    }
   ],
   "source": [
    "# Running with more trees\n",
    "\n",
    "rf_300 = RandomForestRegressor(n_estimators=300, random_state=42) \n",
    "rf_300.fit(X_train_strat_processed, y_train_strat_log)\n",
    "\n",
    "y_strat_pred_rf = rf.predict(X_test_strat_processed)\n",
    "y_strat_pred = np.expm1(y_strat_pred_rf)\n",
    "rmse_strat_rf = np.sqrt(mean_squared_error(y_test_strat_log, y_strat_pred_rf))\n",
    "\n",
    "print(f\"Random Forest RMSE: ${rmse_strat_rf:,.2f}\")\n",
    "print(f\"Linear Regression RMSE: ${rmse:,.2f}\")"
   ]
  },
  {
   "cell_type": "code",
   "execution_count": null,
   "id": "814bd2a2",
   "metadata": {},
   "outputs": [],
   "source": [
    "# Start fresh with clear variable names\n",
    "rf_300 = RandomForestRegressor(n_estimators=300, random_state=42)\n",
    "rf_300.fit(X_train_strat_processed, y_train_strat_log)\n",
    "\n",
    "# Make fresh predictions\n",
    "y_pred_rf_300 = rf_300.predict(X_test_strat_processed)\n",
    "\n",
    "# Check prediction ranges (should be reasonable)\n",
    "print(f\"Prediction range: {y_pred_rf_300.min():.2f} to {y_pred_rf_300.max():.2f}\")\n",
    "print(f\"Test target range: {y_test_strat_log.min():.2f} to {y_test_strat_log.max():.2f}\")\n",
    "\n",
    "# Calculate RMSE\n",
    "rmse_rf_300 = np.sqrt(mean_squared_error(y_test_strat_log, y_pred_rf_300))\n",
    "print(f\"Random Forest RMSE: ${rmse_rf_300:,.2f}\")"
   ]
  },
  {
   "cell_type": "code",
   "execution_count": null,
   "id": "49bbb235",
   "metadata": {},
   "outputs": [
    {
     "name": "stdout",
     "output_type": "stream",
     "text": [
      "Random Forest RMSE (dollars): $53,978.75\n",
      "Prediction range (dollars): $102,371.10 to $326,959.59\n",
      "Test target range (dollars): $99,999.00 to $499,999.00\n"
     ]
    }
   ],
   "source": [
    "# Convert predictions back to original scale\n",
    "y_pred_rf_300_original = np.expm1(y_pred_rf_300)\n",
    "y_test_original = np.expm1(y_test_strat_log)\n",
    "\n",
    "# Calculate RMSE in original dollar scale\n",
    "rmse_rf_300_dollars = np.sqrt(mean_squared_error(y_test_original, y_pred_rf_300_original))\n",
    "print(f\"Random Forest RMSE (dollars): ${rmse_rf_300_dollars:,.2f}\")\n",
    "\n",
    "# For comparison, show the ranges in dollars too\n",
    "print(f\"Prediction range (dollars): ${y_pred_rf_300_original.min():,.2f} to ${y_pred_rf_300_original.max():,.2f}\")\n",
    "print(f\"Test target range (dollars): ${y_test_original.min():,.2f} to ${y_test_original.max():,.2f}\")"
   ]
  },
  {
   "cell_type": "code",
   "execution_count": null,
   "id": "058546aa",
   "metadata": {},
   "outputs": [],
   "source": [
    "# GridSearchCV\n",
    "from sklearn.model_selection import GridSearchCVsfdsd\n",
    "\n",
    "param_grid = {\n",
    "    'n_estimators': [200, 300],\n",
    "    'max_depth': [10, 15],\n",
    "    'min_samples_split': [5, 10],\n",
    "    'min_samples_leaf': [2, 4]\n",
    "}\n",
    "\n",
    "grid_search = GridSearchCV(\n",
    "    RandomForestRegressor(random_state=42), \n",
    "    param_grid, \n",
    "    cv=3, \n",
    "    scoring='neg_mean_squared_error',\n",
    "    n_jobs=-1\n",
    ")\n",
    "\n",
    "print(\"Running GridSearchCV...\")\n",
    "grid_search.fit(X_train_processed, y_train_scaled)\n",
    "\n",
    "# Best model results\n",
    "best_rf = grid_search.best_estimator_\n",
    "y_pred_best = np.expm1(best_rf.predict(X_test_processed))\n",
    "rmse_best = np.sqrt(mean_squared_error(y_test, y_pred_best))\n",
    "\n",
    "print(f\"Best Random Forest RMSE: ${rmse_best:,.2f}\")\n",
    "print(f\"Best parameters: {grid_search.best_params_}\")"
   ]
  },
  {
   "cell_type": "markdown",
   "id": "e54b1ffd",
   "metadata": {},
   "source": [
    "#### ___Feature Engineering___"
   ]
  },
  {
   "cell_type": "code",
   "execution_count": 95,
   "id": "3b3e26c6",
   "metadata": {},
   "outputs": [],
   "source": [
    "features_with_yearscode = salary.copy()"
   ]
  },
  {
   "cell_type": "code",
   "execution_count": 96,
   "id": "bfa74937",
   "metadata": {},
   "outputs": [],
   "source": [
    "features_with_yearscode['YearsCode'] = df['YearsCode']"
   ]
  },
  {
   "cell_type": "code",
   "execution_count": 106,
   "id": "8102161c",
   "metadata": {},
   "outputs": [
    {
     "name": "stdout",
     "output_type": "stream",
     "text": [
      "<class 'pandas.core.series.Series'>\n",
      "RangeIndex: 89184 entries, 0 to 89183\n",
      "Series name: ConvertedCompYearly\n",
      "Non-Null Count  Dtype  \n",
      "--------------  -----  \n",
      "89184 non-null  float64\n",
      "dtypes: float64(1)\n",
      "memory usage: 696.9 KB\n"
     ]
    }
   ],
   "source": [
    "y_cleaned = salary['ConvertedCompYearly']\n",
    "y_cleaned.info()"
   ]
  },
  {
   "cell_type": "code",
   "execution_count": 152,
   "id": "fc960ac8",
   "metadata": {},
   "outputs": [
    {
     "name": "stdout",
     "output_type": "stream",
     "text": [
      "<class 'pandas.core.frame.DataFrame'>\n",
      "RangeIndex: 89184 entries, 0 to 89183\n",
      "Data columns (total 15 columns):\n",
      " #   Column                          Non-Null Count  Dtype   \n",
      "---  ------                          --------------  -----   \n",
      " 0   YearsCodePro_B                  89184 non-null  int64   \n",
      " 1   ConvertedCompYearly             89184 non-null  float64 \n",
      " 2   EdLevel_Bucket                  89184 non-null  object  \n",
      " 3   DevType_Bucket                  89184 non-null  object  \n",
      " 4   PlatformHaveWorkedWith_Bucket   89184 non-null  object  \n",
      " 5   WebframeHaveWorkedWith_Bucket   89184 non-null  object  \n",
      " 6   ProfessionalTech_Bucket         89184 non-null  object  \n",
      " 7   Employment_Category_Bucket      89184 non-null  object  \n",
      " 8   LanguageHaveWorkedWith_Bucket   89184 non-null  object  \n",
      " 9   ToolsTechHaveWorkedWith_Bucket  89184 non-null  object  \n",
      " 10  Country_Grouped                 89184 non-null  object  \n",
      " 11  OrgSize_Encoded                 89184 non-null  int8    \n",
      " 12  Age_Encoded                     89184 non-null  int8    \n",
      " 13  salary_cat                      89184 non-null  category\n",
      " 14  YearsCode                       87435 non-null  object  \n",
      "dtypes: category(1), float64(1), int64(1), int8(2), object(10)\n",
      "memory usage: 8.4+ MB\n"
     ]
    }
   ],
   "source": [
    "features_with_yearscode.info()"
   ]
  },
  {
   "cell_type": "code",
   "execution_count": 175,
   "id": "83a9cf97",
   "metadata": {},
   "outputs": [],
   "source": [
    "from sklearn.impute import SimpleImputer\n",
    "\n",
    "imputer = SimpleImputer(strategy='most_frequent')\n",
    "\n",
    "features_with_yearscode['YearsCode'] = imputer.fit_transform(features_with_yearscode[['YearsCode']]).flatten()"
   ]
  },
  {
   "cell_type": "code",
   "execution_count": 176,
   "id": "6aacd5db",
   "metadata": {},
   "outputs": [
    {
     "name": "stdout",
     "output_type": "stream",
     "text": [
      "<class 'pandas.core.frame.DataFrame'>\n",
      "RangeIndex: 89184 entries, 0 to 89183\n",
      "Data columns (total 15 columns):\n",
      " #   Column                          Non-Null Count  Dtype   \n",
      "---  ------                          --------------  -----   \n",
      " 0   YearsCodePro_B                  89184 non-null  int64   \n",
      " 1   ConvertedCompYearly             89184 non-null  float64 \n",
      " 2   EdLevel_Bucket                  89184 non-null  object  \n",
      " 3   DevType_Bucket                  89184 non-null  object  \n",
      " 4   PlatformHaveWorkedWith_Bucket   89184 non-null  object  \n",
      " 5   WebframeHaveWorkedWith_Bucket   89184 non-null  object  \n",
      " 6   ProfessionalTech_Bucket         89184 non-null  object  \n",
      " 7   Employment_Category_Bucket      89184 non-null  object  \n",
      " 8   LanguageHaveWorkedWith_Bucket   89184 non-null  object  \n",
      " 9   ToolsTechHaveWorkedWith_Bucket  89184 non-null  object  \n",
      " 10  Country_Grouped                 89184 non-null  object  \n",
      " 11  OrgSize_Encoded                 89184 non-null  int8    \n",
      " 12  Age_Encoded                     89184 non-null  int8    \n",
      " 13  salary_cat                      89184 non-null  category\n",
      " 14  YearsCode                       89184 non-null  object  \n",
      "dtypes: category(1), float64(1), int64(1), int8(2), object(10)\n",
      "memory usage: 8.4+ MB\n"
     ]
    }
   ],
   "source": [
    "features_with_yearscode.info()"
   ]
  },
  {
   "cell_type": "code",
   "execution_count": 314,
   "id": "9d699652",
   "metadata": {},
   "outputs": [],
   "source": [
    "df_clean = features_with_yearscode[(features_with_yearscode['ConvertedCompYearly'] >= 100000) & (features_with_yearscode['ConvertedCompYearly'] <= 500000)]\n",
    "\n",
    "salaries = df_clean.drop('ConvertedCompYearly', axis=1)\n",
    "labels = df_clean['ConvertedCompYearly']"
   ]
  },
  {
   "cell_type": "code",
   "execution_count": 316,
   "id": "7415181f",
   "metadata": {},
   "outputs": [],
   "source": [
    "from sklearn.model_selection import train_test_split\n",
    "\n",
    "salaries_train, salaries_test, labels_train, labels_test = train_test_split(salaries, labels, test_size=0.2, random_state=42)"
   ]
  },
  {
   "cell_type": "code",
   "execution_count": null,
   "id": "e502b678",
   "metadata": {},
   "outputs": [],
   "source": [
    "def create_advanced_features(salaries_train):\n",
    "    \n",
    "    salaries_train = salaries_train.copy()\n",
    "\n",
    "    salaries_train['YearsCode'] = pd.to_numeric(salaries_train['YearsCode'], errors='coerce').fillna(0)\n",
    "    salaries_train['YearsCodePro_B'] = pd.to_numeric(salaries_train['YearsCodePro_B'], errors='coerce').fillna(0)\n",
    "\n",
    "    skill_columns = [col for col in salaries_train.columns if col.endswith('_Bucket')]\n",
    "    \n",
    "    # Fixed: Added parentheses to actually call fillna()\n",
    "    salaries_train['skill_diversity'] = salaries_train[skill_columns].apply(\n",
    "        lambda row: len([val for val in row if val not in ['None', 'Other', 'Not Specified']]), axis=1\n",
    "    ).fillna(0)  # <-- Added (0) here\n",
    "    \n",
    "    salaries_train['experience_consistency'] = salaries_train['YearsCodePro_B'] / (salaries_train['YearsCode'] + 1)\n",
    "    salaries_train['experience_consistency'] = salaries_train['experience_consistency'].clip(0, 1).fillna(0)\n",
    "    \n",
    "    seniority_keywords = ['Senior', 'Lead', 'Staff', 'Principal', 'Manager', 'Director']\n",
    "    salaries_train['is_senior_role'] = salaries_train['DevType_Bucket'].str.contains('|'.join(seniority_keywords), case=False, na=False)\n",
    "    \n",
    "    salaries_train['professional_experience_factor'] = (\n",
    "        salaries_train['YearsCodePro_B'] * 0.7 + \n",
    "        salaries_train['experience_consistency'] * 0.2 + \n",
    "        salaries_train['is_senior_role'].astype(int) * 0.1\n",
    "    )\n",
    "    \n",
    "    salaries_train['experience_skill_ratio'] = salaries_train['skill_diversity'] / (salaries_train['YearsCodePro_B'] + 1)\n",
    "    \n",
    "    salaries_train['senior_experience_match'] = (\n",
    "        salaries_train['is_senior_role'] & (salaries_train['YearsCodePro_B'] >= 5)\n",
    "    ).astype(int)\n",
    "    \n",
    "    return salaries_train"
   ]
  },
  {
   "cell_type": "code",
   "execution_count": 320,
   "id": "65de0aa2",
   "metadata": {},
   "outputs": [
    {
     "name": "stdout",
     "output_type": "stream",
     "text": [
      "Train columns: ['YearsCodePro_B', 'EdLevel_Bucket', 'DevType_Bucket', 'PlatformHaveWorkedWith_Bucket', 'WebframeHaveWorkedWith_Bucket', 'ProfessionalTech_Bucket', 'Employment_Category_Bucket', 'LanguageHaveWorkedWith_Bucket', 'ToolsTechHaveWorkedWith_Bucket', 'Country_Grouped', 'OrgSize_Encoded', 'Age_Encoded', 'salary_cat', 'YearsCode']\n",
      "Test columns: ['YearsCodePro_B', 'EdLevel_Bucket', 'DevType_Bucket', 'PlatformHaveWorkedWith_Bucket', 'WebframeHaveWorkedWith_Bucket', 'ProfessionalTech_Bucket', 'Employment_Category_Bucket', 'LanguageHaveWorkedWith_Bucket', 'ToolsTechHaveWorkedWith_Bucket', 'Country_Grouped', 'OrgSize_Encoded', 'Age_Encoded', 'salary_cat', 'YearsCode']\n",
      "Train shape: (13164, 14)\n",
      "Test shape: (3292, 14)\n"
     ]
    }
   ],
   "source": [
    "print(\"Train columns:\", salaries_train.columns.tolist())\n",
    "print(\"Test columns:\", salaries_test.columns.tolist())\n",
    "print(\"Train shape:\", salaries_train.shape)\n",
    "print(\"Test shape:\", salaries_test.shape)"
   ]
  },
  {
   "cell_type": "code",
   "execution_count": 321,
   "id": "95bf9aac",
   "metadata": {},
   "outputs": [],
   "source": [
    "salaries_train_E = create_advanced_features(salaries_train)"
   ]
  },
  {
   "cell_type": "code",
   "execution_count": 330,
   "id": "5732c24f",
   "metadata": {},
   "outputs": [],
   "source": [
    "salaries_test_E = create_advanced_features(salaries_test)"
   ]
  },
  {
   "cell_type": "code",
   "execution_count": 331,
   "id": "d53cab2b",
   "metadata": {},
   "outputs": [],
   "source": [
    "robust_pipeline.fit(salaries_train_E, labels_train)\n",
    "salaries_train_E_P = robust_pipeline.transform(salaries_train_E)\n",
    "salaries_test_E_P = robust_pipeline.transform(salaries_test_E)"
   ]
  },
  {
   "cell_type": "code",
   "execution_count": 332,
   "id": "8a598281",
   "metadata": {},
   "outputs": [],
   "source": [
    "labels_train_log = np.log(labels_train)\n",
    "labels_test_log = np.log(labels_test)"
   ]
  },
  {
   "cell_type": "code",
   "execution_count": 333,
   "id": "d01f9ed8",
   "metadata": {},
   "outputs": [
    {
     "data": {
      "text/plain": [
       "(13164, 34)"
      ]
     },
     "execution_count": 333,
     "metadata": {},
     "output_type": "execute_result"
    }
   ],
   "source": [
    "salaries_train_E_P.shape"
   ]
  },
  {
   "cell_type": "code",
   "execution_count": 342,
   "id": "2193be2f",
   "metadata": {},
   "outputs": [
    {
     "name": "stdout",
     "output_type": "stream",
     "text": [
      "Training XGBoost...\n",
      "XGBoost RMSE: $54,811\n",
      "Training Gradient Boosting...\n",
      "Gradient Boosting RMSE: $52,951\n",
      "Training Extra Trees...\n",
      "Extra Trees RMSE: $54,323\n",
      "Training Ridge...\n",
      "Ridge RMSE: $54,644\n",
      "Training ElasticNet...\n",
      "ElasticNet RMSE: $61,366\n",
      "Training SVR...\n",
      "SVR RMSE: $68,123\n",
      "\n",
      "Model Ranking:\n",
      "Gradient Boosting: $52,951\n",
      "Extra Trees: $54,323\n",
      "Ridge: $54,644\n",
      "XGBoost: $54,811\n",
      "ElasticNet: $61,366\n",
      "SVR: $68,123\n",
      "\n",
      "Best Model: Gradient Boosting ($52,951)\n"
     ]
    }
   ],
   "source": [
    "from sklearn.ensemble import GradientBoostingRegressor, ExtraTreesRegressor\n",
    "from xgboost import XGBRegressor\n",
    "from sklearn.linear_model import Ridge, ElasticNet\n",
    "from sklearn.svm import SVR\n",
    "from sklearn.metrics import mean_squared_error\n",
    "import numpy as np\n",
    "\n",
    "models = {\n",
    "    'XGBoost': XGBRegressor(random_state=42, n_estimators=200),\n",
    "    'Gradient Boosting': GradientBoostingRegressor(random_state=42, n_estimators=200),\n",
    "    'Extra Trees': ExtraTreesRegressor(random_state=42, n_estimators=200),\n",
    "    'Ridge': Ridge(alpha=1.0),\n",
    "    'ElasticNet': ElasticNet(alpha=0.1, l1_ratio=0.5),\n",
    "    'SVR': SVR(kernel='rbf', C=100, gamma='scale')\n",
    "}\n",
    "\n",
    "results = {}\n",
    "\n",
    "for name, model in models.items():\n",
    "    print(f\"Training {name}...\")\n",
    "    model.fit(salaries_train_E_P, labels_train_log)\n",
    "    y_pred = model.predict(salaries_test_E_P)\n",
    "    \n",
    "    y_pred_clipped = np.clip(y_pred, -10, 15)\n",
    "    y_pred_original = np.exp(y_pred_clipped)\n",
    "    y_test_original = np.exp(labels_test_log)\n",
    "    \n",
    "    rmse = np.sqrt(mean_squared_error(y_test_original, y_pred_original))\n",
    "    results[name] = rmse\n",
    "    print(f\"{name} RMSE: ${rmse:,.0f}\")\n",
    "\n",
    "print(\"\\nModel Ranking:\")\n",
    "for name, rmse in sorted(results.items(), key=lambda x: x[1]):\n",
    "    print(f\"{name}: ${rmse:,.0f}\")\n",
    "\n",
    "best_model = min(results, key=results.get)\n",
    "print(f\"\\nBest Model: {best_model} (${results[best_model]:,.0f})\")"
   ]
  },
  {
   "cell_type": "code",
   "execution_count": 343,
   "id": "5149dbb3",
   "metadata": {},
   "outputs": [
    {
     "name": "stdout",
     "output_type": "stream",
     "text": [
      "Run this analysis with your trained Gradient Boosting model and training data!\n",
      "Replace 'gradient_boosting_model' with your actual model variable name\n"
     ]
    }
   ],
   "source": [
    "import pandas as pd\n",
    "import numpy as np\n",
    "import matplotlib.pyplot as plt\n",
    "import seaborn as sns\n",
    "from sklearn.ensemble import GradientBoostingRegressor\n",
    "from sklearn.feature_selection import RFE\n",
    "from scipy.stats import pearsonr\n",
    "\n",
    "# Assuming your best Gradient Boosting model is already trained\n",
    "# Let's analyze feature importance and correlations\n",
    "\n",
    "def analyze_feature_redundancy(salaries_train, labels_train, model, feature_names):\n",
    "    \"\"\"\n",
    "    Comprehensive feature redundancy analysis\n",
    "    \"\"\"\n",
    "    \n",
    "    # 1. Feature Importance from Gradient Boosting\n",
    "    print(\"=== FEATURE IMPORTANCE ANALYSIS ===\")\n",
    "    importance_df = pd.DataFrame({\n",
    "        'feature': feature_names,\n",
    "        'importance': model.feature_importances_\n",
    "    }).sort_values('importance', ascending=False)\n",
    "    \n",
    "    print(\"\\nTop 15 Most Important Features:\")\n",
    "    print(importance_df.head(15))\n",
    "    \n",
    "    print(f\"\\nBottom 10 Least Important Features:\")\n",
    "    print(importance_df.tail(10))\n",
    "    \n",
    "    # 2. Correlation Analysis for Key Suspected Redundant Features\n",
    "    print(\"\\n=== CORRELATION ANALYSIS ===\")\n",
    "    \n",
    "    # Check correlations between suspected redundant features\n",
    "    redundant_pairs = [\n",
    "        ('YearsCode', 'YearsCodePro'),\n",
    "        ('Experience_Consistency', 'YearsCode'),\n",
    "        ('Experience_Consistency', 'YearsCodePro'),\n",
    "        ('Senior_Experience_Match', 'Is_Senior_Role'),\n",
    "        ('Professional_Experience_Factor', 'YearsCodePro'),\n",
    "        ('Experience_Skill_Ratio', 'YearsCode')\n",
    "    ]\n",
    "    \n",
    "    correlation_results = []\n",
    "    \n",
    "    for feat1, feat2 in redundant_pairs:\n",
    "        if feat1 in X_train.columns and feat2 in X_train.columns:\n",
    "            corr_coef = X_train[feat1].corr(X_train[feat2])\n",
    "            correlation_results.append({\n",
    "                'Feature_1': feat1,\n",
    "                'Feature_2': feat2,\n",
    "                'Correlation': corr_coef,\n",
    "                'Strength': 'High' if abs(corr_coef) > 0.7 else 'Medium' if abs(corr_coef) > 0.4 else 'Low'\n",
    "            })\n",
    "    \n",
    "    corr_df = pd.DataFrame(correlation_results)\n",
    "    print(\"\\nCorrelation Between Suspected Redundant Features:\")\n",
    "    print(corr_df)\n",
    "    \n",
    "    # 3. Feature Importance for ProfessionalTech_Bucket specifically\n",
    "    print(\"\\n=== PROFESSIONALTECH_BUCKET ANALYSIS ===\")\n",
    "    prof_tech_importance = importance_df[importance_df['feature'].str.contains('ProfessionalTech', case=False, na=False)]\n",
    "    \n",
    "    if len(prof_tech_importance) > 0:\n",
    "        print(\"ProfessionalTech_Bucket importance ranking:\")\n",
    "        print(prof_tech_importance)\n",
    "        \n",
    "        rank = importance_df.reset_index().index[importance_df['feature'].str.contains('ProfessionalTech', case=False, na=False)].tolist()\n",
    "        if rank:\n",
    "            print(f\"ProfessionalTech_Bucket ranks #{rank[0]+1} out of {len(feature_names)} features\")\n",
    "    else:\n",
    "        print(\"ProfessionalTech_Bucket not found in current features\")\n",
    "    \n",
    "    # 4. Drop Recommendations\n",
    "    print(\"\\n=== FEATURE DROP RECOMMENDATIONS ===\")\n",
    "    \n",
    "    # Features with very low importance (bottom 10%)\n",
    "    low_importance_threshold = importance_df['importance'].quantile(0.1)\n",
    "    low_importance_features = importance_df[importance_df['importance'] <= low_importance_threshold]\n",
    "    \n",
    "    print(f\"Features with importance <= {low_importance_threshold:.4f} (bottom 10%):\")\n",
    "    print(low_importance_features[['feature', 'importance']].to_string(index=False))\n",
    "    \n",
    "    # Highly correlated features\n",
    "    high_corr_features = corr_df[corr_df['Strength'] == 'High']\n",
    "    if len(high_corr_features) > 0:\n",
    "        print(f\"\\nHighly correlated feature pairs (>0.7):\")\n",
    "        print(high_corr_features[['Feature_1', 'Feature_2', 'Correlation']].to_string(index=False))\n",
    "        print(\"Consider dropping one from each pair\")\n",
    "    \n",
    "    return importance_df, corr_df\n",
    "\n",
    "# 5. Recursive Feature Elimination Analysis\n",
    "def rfe_analysis(X_train, y_train, n_features_to_select=15):\n",
    "    \"\"\"\n",
    "    Use RFE to find optimal feature subset\n",
    "    \"\"\"\n",
    "    print(f\"\\n=== RECURSIVE FEATURE ELIMINATION (Top {n_features_to_select} features) ===\")\n",
    "    \n",
    "    gb_model = GradientBoostingRegressor(random_state=42)\n",
    "    rfe = RFE(estimator=gb_model, n_features_to_select=n_features_to_select)\n",
    "    rfe.fit(X_train, y_train)\n",
    "    \n",
    "    rfe_results = pd.DataFrame({\n",
    "        'feature': X_train.columns,\n",
    "        'selected': rfe.support_,\n",
    "        'ranking': rfe.ranking_\n",
    "    }).sort_values('ranking')\n",
    "    \n",
    "    print(\"RFE Feature Selection Results:\")\n",
    "    print(rfe_results)\n",
    "    \n",
    "    selected_features = rfe_results[rfe_results['selected']]['feature'].tolist()\n",
    "    print(f\"\\nRFE Selected Features ({len(selected_features)}):\")\n",
    "    for feat in selected_features:\n",
    "        print(f\"  - {feat}\")\n",
    "    \n",
    "    return rfe_results, selected_features\n",
    "\n",
    "# Usage example:\n",
    "# importance_df, corr_df = analyze_feature_redundancy(X_train, y_train, gradient_boosting_model, X_train.columns)\n",
    "# rfe_results, selected_features = rfe_analysis(X_train, y_train, n_features_to_select=15)\n",
    "\n",
    "print(\"Run this analysis with your trained Gradient Boosting model and training data!\")\n",
    "print(\"Replace 'gradient_boosting_model' with your actual model variable name\")"
   ]
  },
  {
   "cell_type": "code",
   "execution_count": null,
   "id": "f20b32ff",
   "metadata": {},
   "outputs": [],
   "source": [
    "importance_df = analyze_feature_redundancy(salaries_train, )"
   ]
  }
 ],
 "metadata": {
  "kernelspec": {
   "display_name": ".venv",
   "language": "python",
   "name": "python3"
  },
  "language_info": {
   "codemirror_mode": {
    "name": "ipython",
    "version": 3
   },
   "file_extension": ".py",
   "mimetype": "text/x-python",
   "name": "python",
   "nbconvert_exporter": "python",
   "pygments_lexer": "ipython3",
   "version": "3.13.2"
  }
 },
 "nbformat": 4,
 "nbformat_minor": 5
}
