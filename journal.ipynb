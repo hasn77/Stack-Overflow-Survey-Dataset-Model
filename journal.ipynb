{
 "cells": [
  {
   "cell_type": "markdown",
   "id": "db55cacd",
   "metadata": {},
   "source": [
    "## ____Stack Overflow Survey ML Project - Learning Journal____"
   ]
  },
  {
   "cell_type": "markdown",
   "id": "238df457",
   "metadata": {},
   "source": [
    "#### ___Project Overview___\n",
    "- Dataset: Stack Overflow 2023 Survey\n",
    "- Goal: __Predicting Yearly Salary (ConvertedComppYearly)__\n",
    "- Key Learning Objectives: Apply Chapter 2 concepts, feature engineering practice, robust pipeline building."
   ]
  },
  {
   "cell_type": "markdown",
   "id": "82ff3543",
   "metadata": {},
   "source": [
    "#### ___Target Selection___\n",
    "- **Decision**: ConvertedCompYearly as regression target\n",
    "- **Why**: \n",
    "  - 48K samples, reasonable distribution\n",
    "  - Median $75K aligns with industry knowledge\n",
    "  - Rich feature set for prediction\n",
    "- **Challenges identified**: \n",
    "  - Extreme outliers need handling\n",
    "  - ~46% missing values\n",
    "  - Need currency/location normalization strategy\n",
    "- **Next**: Explore feature relationships and outlier handling"
   ]
  },
  {
   "cell_type": "markdown",
   "id": "7f07b6a3",
   "metadata": {},
   "source": [
    "####  ___Documentation___\n",
    "\n",
    "#### __Data Exploration__\n",
    "- **Decision**: Checked the dataset for missing values, saw statistical descriptions of each variable.  \n",
    "- **Why**: To find out a reasonable target variable. \n",
    "- **Alternatives considered**: N/A\n",
    "- **Outcome**: Most of the variables are objects/categorical. The model would require clever data preprocessing to find out only relevant variable for the target. Then onwards clever feature engineering would help to build a strong model.\n",
    "\n",
    "#### __Feature Selection__\n",
    "- **Features**: EdLevel, YearsCode, YearsCodePro, DevType, OrgSize, TechList, LanguageHaveWorkedWith, PlatformHaveWorkedWith, WebframeHaveWorkedWith, ToolsTechHaveWorkedWith, WorkExp, Industry, ProfessionalTech.\n",
    "- **Statistics**: 12 out of 13 features are object/categorical mostly highly cordinal. \n",
    "- **Choice**: Based on the tech domain intuition, these features are most likely to relate the most and can be the drivers of tech salaries. \n",
    "- **Challenges**: None so far."
   ]
  },
  {
   "cell_type": "markdown",
   "id": "4481cd84",
   "metadata": {},
   "source": [
    "#### ___Feature Engineering Startegy___\n",
    "\n",
    "<details>\n",
    "  <summary>Details:</summary>\n",
    "  \n",
    "## Topic: Advanced Feature Engineering for High-Cardinality Categorical Variables\n",
    "\n",
    "### Problem Context\n",
    "Working with Stack Overflow survey data containing 13 variables (12 categorical, 1 numerical) across 89,000 rows. The main challenge: high-cardinality categorical variables like `TechList`, `LanguageHaveWorkedWith` that could create thousands of sparse features if one-hot encoded directly.\n",
    "\n",
    "### Key Insights Discovered\n",
    "\n",
    "**1. The Sparse Matrix Strategy**\n",
    "- Problem: One-hot encoding 12 categorical variables across 89K rows creates massive sparse matrices (potentially 10K+ features with 99%+ zeros)\n",
    "- Solution: Use sklearn's sparse matrix handling with `feature_names_out` for interpretability\n",
    "- Why it works: Sparse matrices store only non-zero values, reducing memory usage by 90-95%\n",
    "\n",
    "**2. Hierarchical Feature Engineering Approach**\n",
    "Instead of simple one-hot encoding, implementing a two-level strategy:\n",
    "- **Stack-level features**: Group technologies into meaningful categories (frontend, backend, data science)\n",
    "- **Technology-level features**: Preserve granular signal for high-impact individual technologies\n",
    "\n",
    "**3. Salary-Proportional Weighting Strategy**\n",
    "- **Core Problem**: Not all technologies within a stack have equal salary impact\n",
    "- **Solution**: Weight features proportionally to their salary impact using raw salary differences\n",
    "- **Implementation**: `weight = tech_salary / median_salary`\n",
    "- **Rationale**: Preserves valuable signal from both high-paying outliers and common technologies\n",
    "\n",
    "### Technical Decisions Made\n",
    "\n",
    "**Weighting Approach**: \n",
    "- Chose raw salary differences over RBF smoothing for initial implementation\n",
    "- Reasoning: Maintain interpretability and preserve genuine salary signals\n",
    "- Plan: Test performance, then iterate if needed\n",
    "\n",
    "**Experimental Strategy**:\n",
    "1. Analyze technology → salary relationships\n",
    "2. Implement proportional weighting system\n",
    "3. Test against grouped stack-level features as baseline\n",
    "4. Measure correlation and linear regression performance\n",
    "5. Only then build robust transformer for production pipeline\n",
    "\n",
    "### Learning Connections to Chapter 2 Concepts\n",
    "\n",
    "**Feature Engineering Pipeline Design**: Applying the systematic approach from Aurélien's Chapter 2 - separating experimental feature engineering from production pipeline construction.\n",
    "\n",
    "**Handling Categorical Variables**: Going beyond basic one-hot encoding to domain-specific feature engineering that captures business logic.\n",
    "\n",
    "**Curse of Dimensionality**: Understanding how high-cardinality categoricals can hurt model performance and using domain knowledge to combat it.\n",
    "\n",
    "### __Next Steps__\n",
    "1. Implement salary analysis per technology\n",
    "2. Build proportional weighting system  \n",
    "3. Create experimental features and test correlation\n",
    "4. Compare performance against simple stack grouping\n",
    "5. Document findings before building production transformer\n",
    "\n",
    "### __Key Takeaway__\n",
    "**Professional ML Engineering Insight**: The best feature engineering combines domain expertise (understanding which technologies actually cluster together) with statistical rigor (proportional weighting based on actual salary impact). This is where human judgment adds irreplaceable value to the ML pipeline.\n",
    "  \n",
    "</details>"
   ]
  },
  {
   "cell_type": "markdown",
   "id": "834f5dc0",
   "metadata": {},
   "source": [
    "#### __HEADING_HERE__\n",
    "\n",
    "- __Decision:__\n",
    "- ___Why?___\n",
    "- __Challenges:__"
   ]
  },
  {
   "cell_type": "markdown",
   "id": "f55bcc89",
   "metadata": {},
   "source": [
    "#### __HEADING_HERE__\n",
    "\n",
    "- __Decision:__\n",
    "- ___Why?___\n",
    "- __Challenges:__"
   ]
  },
  {
   "cell_type": "markdown",
   "id": "c3ca1ca7",
   "metadata": {},
   "source": [
    "#### __HEADING_HERE__\n",
    "\n",
    "- __Decision:__\n",
    "- ___Why?___\n",
    "- __Challenges:__"
   ]
  },
  {
   "cell_type": "markdown",
   "id": "4ad0391a",
   "metadata": {},
   "source": [
    "#### __HEADING_HERE__\n",
    "\n",
    "- __Decision:__\n",
    "- ___Why?___\n",
    "- __Challenges:__"
   ]
  },
  {
   "cell_type": "markdown",
   "id": "b6dd7369",
   "metadata": {},
   "source": [
    "#### __HEADING_HERE__\n",
    "\n",
    "- __Decision:__\n",
    "- ___Why?___\n",
    "- __Challenges:__"
   ]
  },
  {
   "cell_type": "markdown",
   "id": "350f911d",
   "metadata": {},
   "source": [
    "#### __HEADING_HERE__\n",
    "\n",
    "- __Decision:__\n",
    "- ___Why?___\n",
    "- __Challenges:__"
   ]
  },
  {
   "cell_type": "markdown",
   "id": "dbf601bd",
   "metadata": {},
   "source": [
    "#### __HEADING_HERE__\n",
    "\n",
    "- __Decision:__\n",
    "- ___Why?___\n",
    "- __Challenges:__"
   ]
  },
  {
   "cell_type": "markdown",
   "id": "711c0c5e",
   "metadata": {},
   "source": [
    "#### __HEADING_HERE__\n",
    "\n",
    "- __Decision:__\n",
    "- ___Why?___\n",
    "- __Challenges:__"
   ]
  },
  {
   "cell_type": "markdown",
   "id": "0ebdd473",
   "metadata": {},
   "source": [
    "#### __HEADING_HERE__\n",
    "\n",
    "- __Decision:__\n",
    "- ___Why?___\n",
    "- __Challenges:__"
   ]
  },
  {
   "cell_type": "markdown",
   "id": "70489d9d",
   "metadata": {},
   "source": [
    "#### __HEADING_HERE__\n",
    "\n",
    "- __Decision:__\n",
    "- ___Why?___\n",
    "- __Challenges:__"
   ]
  }
 ],
 "metadata": {
  "language_info": {
   "name": "python"
  }
 },
 "nbformat": 4,
 "nbformat_minor": 5
}
